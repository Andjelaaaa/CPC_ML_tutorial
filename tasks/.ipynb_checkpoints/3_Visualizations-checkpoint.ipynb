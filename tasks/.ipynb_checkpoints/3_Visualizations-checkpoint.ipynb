{
 "cells": [
  {
   "cell_type": "code",
   "execution_count": 1,
   "metadata": {},
   "outputs": [],
   "source": [
    "import os\n",
    "import pandas as pd\n",
    "import numpy as np\n",
    "import matplotlib.pyplot as plt\n",
    "import seaborn as sns"
   ]
  },
  {
   "cell_type": "markdown",
   "metadata": {},
   "source": [
    "# 1. Brain Space Visualization"
   ]
  },
  {
   "cell_type": "markdown",
   "metadata": {},
   "source": [
    "## Count the number of extreme (positive & negative) deviations at each brain region"
   ]
  },
  {
   "cell_type": "code",
   "execution_count": null,
   "metadata": {},
   "outputs": [],
   "source": [
    "Z_df = pd.read_csv('z_count.csv')"
   ]
  },
  {
   "cell_type": "code",
   "execution_count": null,
   "metadata": {
    "jupyter": {
     "source_hidden": true
    },
    "tags": []
   },
   "outputs": [],
   "source": [
    "Z_long = Z_df.melt(id_vars=['participant_id','group','site'], value_vars=[\n",
    " '3rd-Ventricle_Z_estimate',\n",
    " 'lh_S_postcentral_thickness_Z_estimate',\n",
    " 'rh_G&S_frontomargin_thickness_Z_estimate',\n",
    " 'rh_G_pariet_inf-Supramar_thickness_Z_estimate',\n",
    " 'rh_S_temporal_transverse_thickness_Z_estimate',\n",
    " 'lh_S_oc_middle&Lunatus_thickness_Z_estimate',\n",
    " 'lh_S_cingul-Marginalis_thickness_Z_estimate',\n",
    " 'rh_G_oc-temp_lat-fusifor_thickness_Z_estimate',\n",
    " 'rh_G_temp_sup-Lateral_thickness_Z_estimate',\n",
    " 'rh_S_circular_insula_sup_thickness_Z_estimate',\n",
    " 'lh_S_interm_prim-Jensen_thickness_Z_estimate',\n",
    " 'Left-Putamen_Z_estimate',\n",
    " 'Right-vessel_Z_estimate',\n",
    " 'rh_S_pericallosal_thickness_Z_estimate',\n",
    " 'rh_G_front_sup_thickness_Z_estimate',\n",
    " 'rh_S_oc_sup&transversal_thickness_Z_estimate',\n",
    " 'rh_S_precentral-sup-part_thickness_Z_estimate',\n",
    " 'lh_S_circular_insula_ant_thickness_Z_estimate',\n",
    " 'lh_G_subcallosal_thickness_Z_estimate',\n",
    " 'Right-VentralDC_Z_estimate',\n",
    " 'rh_Lat_Fis-post_thickness_Z_estimate',\n",
    " 'lh_G_postcentral_thickness_Z_estimate',\n",
    " 'rh_G_rectus_thickness_Z_estimate',\n",
    " 'rh_G_occipital_sup_thickness_Z_estimate',\n",
    " 'rh_G_orbital_thickness_Z_estimate',\n",
    " 'Left-Hippocampus_Z_estimate',\n",
    " 'lh_G_cuneus_thickness_Z_estimate',\n",
    " 'lh_S_suborbital_thickness_Z_estimate',\n",
    " 'Left-VentralDC_Z_estimate',\n",
    " 'lh_G_temporal_middle_thickness_Z_estimate',\n",
    " 'Left-Inf-Lat-Vent_Z_estimate',\n",
    " 'lh_S_parieto_occipital_thickness_Z_estimate',\n",
    " 'lh_G_front_inf-Triangul_thickness_Z_estimate',\n",
    " 'lh_Lat_Fis-ant-Vertical_thickness_Z_estimate',\n",
    " 'lh_G_front_inf-Orbital_thickness_Z_estimate',\n",
    " 'lh_G_oc-temp_lat-fusifor_thickness_Z_estimate',\n",
    " 'lh_S_circular_insula_inf_thickness_Z_estimate',\n",
    " 'Right-Amygdala_Z_estimate',\n",
    " 'rh_G_cingul-Post-dorsal_thickness_Z_estimate',\n",
    " 'rh_S_suborbital_thickness_Z_estimate',\n",
    " 'lh_G_temp_sup-Lateral_thickness_Z_estimate',\n",
    " 'rh_G_precentral_thickness_Z_estimate',\n",
    " 'rh_S_parieto_occipital_thickness_Z_estimate',\n",
    " 'rh_S_collat_transv_post_thickness_Z_estimate',\n",
    " 'rh_G_cingul-Post-ventral_thickness_Z_estimate',\n",
    " 'lh_S_front_sup_thickness_Z_estimate',\n",
    " 'lh_S_temporal_sup_thickness_Z_estimate',\n",
    " 'rh_S_oc-temp_lat_thickness_Z_estimate',\n",
    " 'rh_G_occipital_middle_thickness_Z_estimate',\n",
    " 'lh_Lat_Fis-post_thickness_Z_estimate',\n",
    " 'lh_S_circular_insula_sup_thickness_Z_estimate',\n",
    " 'lh_G&S_frontomargin_thickness_Z_estimate',\n",
    " 'Left-Amygdala_Z_estimate',\n",
    " 'lh_G_front_sup_thickness_Z_estimate',\n",
    " 'lh_S_oc-temp_med&Lingual_thickness_Z_estimate',\n",
    " 'lh_G_oc-temp_med-Lingual_thickness_Z_estimate',\n",
    " 'lh_G_temp_sup-Plan_tempo_thickness_Z_estimate',\n",
    " 'lh_G_cingul-Post-dorsal_thickness_Z_estimate',\n",
    " 'rh_G_front_inf-Triangul_thickness_Z_estimate',\n",
    " 'avg_thickness_Z_estimate',\n",
    " 'lh_S_collat_transv_post_thickness_Z_estimate',\n",
    " 'Right-Pallidum_Z_estimate',\n",
    " 'rh_S_occipital_ant_thickness_Z_estimate',\n",
    " 'lh_G_precuneus_thickness_Z_estimate',\n",
    " 'rh_S_central_thickness_Z_estimate',\n",
    " 'rh_S_orbital_lateral_thickness_Z_estimate',\n",
    " 'lh_G_rectus_thickness_Z_estimate',\n",
    " 'rh_G&S_cingul-Ant_thickness_Z_estimate',\n",
    " 'lh_G_front_inf-Opercular_thickness_Z_estimate',\n",
    " 'rh_S_orbital_med-olfact_thickness_Z_estimate',\n",
    " 'rh_S_temporal_inf_thickness_Z_estimate',\n",
    " 'rh_Pole_occipital_thickness_Z_estimate',\n",
    " 'lh_G_temporal_inf_thickness_Z_estimate',\n",
    " 'rh_G_subcallosal_thickness_Z_estimate',\n",
    " 'rh_G_postcentral_thickness_Z_estimate',\n",
    " 'lh_G&S_occipital_inf_thickness_Z_estimate',\n",
    " 'lh_G&S_transv_frontopol_thickness_Z_estimate',\n",
    " 'rh_G_Ins_lg&S_cent_ins_thickness_Z_estimate',\n",
    " 'lh_G_temp_sup-Plan_polar_thickness_Z_estimate',\n",
    " 'lh_G&S_cingul-Mid-Post_thickness_Z_estimate',\n",
    " 'lh_S_orbital-H_Shaped_thickness_Z_estimate',\n",
    " '4th-Ventricle_Z_estimate',\n",
    " 'rh_G&S_cingul-Mid-Ant_thickness_Z_estimate',\n",
    " 'Left-vessel_Z_estimate',\n",
    " 'lh_G_Ins_lg&S_cent_ins_thickness_Z_estimate',\n",
    " 'rh_G_temporal_inf_thickness_Z_estimate',\n",
    " 'lh_S_collat_transv_ant_thickness_Z_estimate',\n",
    " 'rh_Pole_temporal_thickness_Z_estimate',\n",
    " 'Brain-Stem_Z_estimate',\n",
    " 'rh_G_temporal_middle_thickness_Z_estimate',\n",
    " 'rh_G&S_occipital_inf_thickness_Z_estimate',\n",
    " 'Right-Inf-Lat-Vent_Z_estimate',\n",
    " 'Left-choroid-plexus_Z_estimate',\n",
    " 'lh_S_orbital_med-olfact_thickness_Z_estimate',\n",
    " 'lh_G&S_cingul-Mid-Ant_thickness_Z_estimate',\n",
    " 'rh_S_subparietal_thickness_Z_estimate',\n",
    " 'lh_G_occipital_middle_thickness_Z_estimate',\n",
    " 'lh_S_subparietal_thickness_Z_estimate',\n",
    " 'rh_G_front_inf-Orbital_thickness_Z_estimate',\n",
    " 'Left-Thalamus-Proper_Z_estimate',\n",
    " 'rh_G&S_transv_frontopol_thickness_Z_estimate',\n",
    " 'rh_G&S_paracentral_thickness_Z_estimate',\n",
    " 'rh_S_collat_transv_ant_thickness_Z_estimate',\n",
    " 'lh_G&S_subcentral_thickness_Z_estimate',\n",
    " 'rh_S_circular_insula_inf_thickness_Z_estimate',\n",
    " 'rh_G_parietal_sup_thickness_Z_estimate',\n",
    " 'Right-Caudate_Z_estimate',\n",
    " 'Left-Pallidum_Z_estimate',\n",
    " 'rh_S_orbital-H_Shaped_thickness_Z_estimate',\n",
    " 'Right-Putamen_Z_estimate',\n",
    " 'lh_Pole_occipital_thickness_Z_estimate',\n",
    " 'lh_S_temporal_transverse_thickness_Z_estimate',\n",
    " 'lh_S_calcarine_thickness_Z_estimate',\n",
    " 'rh_S_oc-temp_med&Lingual_thickness_Z_estimate',\n",
    " 'rh_S_postcentral_thickness_Z_estimate',\n",
    " 'lh_G_front_middle_thickness_Z_estimate',\n",
    " 'lh_G_parietal_sup_thickness_Z_estimate',\n",
    " 'rh_G_temp_sup-Plan_polar_thickness_Z_estimate',\n",
    " 'lh_S_central_thickness_Z_estimate',\n",
    " 'lh_S_orbital_lateral_thickness_Z_estimate',\n",
    " 'Right-Accumbens-area_Z_estimate',\n",
    " 'Right-choroid-plexus_Z_estimate',\n",
    " 'rh_S_circular_insula_ant_thickness_Z_estimate',\n",
    " 'rh_Lat_Fis-ant-Horizont_thickness_Z_estimate',\n",
    " 'rh_S_precentral-inf-part_thickness_Z_estimate',\n",
    " 'rh_G&S_cingul-Mid-Post_thickness_Z_estimate',\n",
    " 'lh_S_intrapariet&P_trans_thickness_Z_estimate',\n",
    " 'lh_G_occipital_sup_thickness_Z_estimate',\n",
    " 'lh_G_precentral_thickness_Z_estimate',\n",
    " 'rh_S_oc_middle&Lunatus_thickness_Z_estimate',\n",
    " 'rh_S_cingul-Marginalis_thickness_Z_estimate',\n",
    " 'rh_G_temp_sup-Plan_tempo_thickness_Z_estimate',\n",
    " 'lh_G_insular_short_thickness_Z_estimate',\n",
    " 'rh_Lat_Fis-ant-Vertical_thickness_Z_estimate',\n",
    " 'lh_G_oc-temp_med-Parahip_thickness_Z_estimate',\n",
    " 'rh_S_calcarine_thickness_Z_estimate',\n",
    " 'Left-Lateral-Ventricle_Z_estimate',\n",
    " 'lh_G&S_cingul-Ant_thickness_Z_estimate',\n",
    " 'rh_G&S_subcentral_thickness_Z_estimate',\n",
    " 'rh_S_intrapariet&P_trans_thickness_Z_estimate',\n",
    " 'Left-Accumbens-area_Z_estimate',\n",
    " 'lh_S_oc_sup&transversal_thickness_Z_estimate',\n",
    " 'Right-Hippocampus_Z_estimate',\n",
    " 'Right-Thalamus-Proper_Z_estimate',\n",
    " 'lh_G_temp_sup-G_T_transv_thickness_Z_estimate',\n",
    " 'lh_G_pariet_inf-Supramar_thickness_Z_estimate',\n",
    " 'Left-Caudate_Z_estimate',\n",
    " 'rh_G_oc-temp_med-Parahip_thickness_Z_estimate',\n",
    " 'rh_G_insular_short_thickness_Z_estimate',\n",
    " 'rh_G_front_middle_thickness_Z_estimate',\n",
    " 'lh_S_precentral-sup-part_thickness_Z_estimate',\n",
    " 'CSF_Z_estimate',\n",
    " 'lh_G_cingul-Post-ventral_thickness_Z_estimate',\n",
    " 'rh_G_pariet_inf-Angular_thickness_Z_estimate',\n",
    " 'rh_S_front_inf_thickness_Z_estimate',\n",
    " 'rh_S_front_middle_thickness_Z_estimate',\n",
    " 'rh_G_front_inf-Opercular_thickness_Z_estimate',\n",
    " 'lh_G&S_paracentral_thickness_Z_estimate',\n",
    " 'rh_S_front_sup_thickness_Z_estimate',\n",
    " 'lh_S_front_inf_thickness_Z_estimate',\n",
    " 'lh_G_orbital_thickness_Z_estimate',\n",
    " 'Right-Lateral-Ventricle_Z_estimate',\n",
    " 'lh_S_precentral-inf-part_thickness_Z_estimate',\n",
    " 'lh_G_pariet_inf-Angular_thickness_Z_estimate',\n",
    " 'lh_S_front_middle_thickness_Z_estimate',\n",
    " 'rh_G_precuneus_thickness_Z_estimate',\n",
    " 'rh_G_temp_sup-G_T_transv_thickness_Z_estimate',\n",
    " 'lh_Pole_temporal_thickness_Z_estimate',\n",
    " 'rh_G_cuneus_thickness_Z_estimate',\n",
    " 'rh_S_temporal_sup_thickness_Z_estimate',\n",
    " 'lh_Lat_Fis-ant-Horizont_thickness_Z_estimate',\n",
    " 'rh_S_interm_prim-Jensen_thickness_Z_estimate',\n",
    " 'lh_S_pericallosal_thickness_Z_estimate',\n",
    " 'lh_S_occipital_ant_thickness_Z_estimate',\n",
    " 'lh_S_oc-temp_lat_thickness_Z_estimate',\n",
    " 'rh_G_oc-temp_med-Lingual_thickness_Z_estimate',\n",
    " 'lh_S_temporal_inf_thickness_Z_estimate'])"
   ]
  },
  {
   "cell_type": "code",
   "execution_count": null,
   "metadata": {},
   "outputs": [],
   "source": [
    "Z_long['variable'] = Z_long['variable'].str.replace('_thickness_Z_estimate', '', regex=True)\n",
    "Z_long['variable'] = Z_long['variable'].str.replace('_Z_estimate', '', regex=True)\n",
    "Z_long['variable'] = Z_long['variable'].str.replace('G&S', 'G_and_S', regex=True)"
   ]
  },
  {
   "cell_type": "code",
   "execution_count": null,
   "metadata": {},
   "outputs": [],
   "source": [
    "Z_long[['temp1', 'temp2']] = Z_long['variable'].str.split(pat=\"_\", n=1, expand=True)"
   ]
  },
  {
   "cell_type": "code",
   "execution_count": null,
   "metadata": {},
   "outputs": [],
   "source": [
    "Z_long.temp1 = Z_long.temp1.apply(lambda x: 'left' if 'lh' in x else x)"
   ]
  },
  {
   "cell_type": "code",
   "execution_count": null,
   "metadata": {},
   "outputs": [],
   "source": [
    "Z_long.temp1 = Z_long.temp1.apply(lambda x: 'right' if 'rh' in x else x)"
   ]
  },
  {
   "cell_type": "code",
   "execution_count": null,
   "metadata": {},
   "outputs": [],
   "source": [
    "df_sc1 = Z_long[~Z_long[\"temp1\"].str.contains('left|right|CC')]"
   ]
  },
  {
   "cell_type": "code",
   "execution_count": null,
   "metadata": {},
   "outputs": [],
   "source": [
    "df_sc2 = Z_long[Z_long[\"temp1\"].str.contains('CC')]"
   ]
  },
  {
   "cell_type": "code",
   "execution_count": null,
   "metadata": {},
   "outputs": [],
   "source": [
    "df_lr = Z_long[Z_long[\"temp1\"].str.contains('left|right')]"
   ]
  },
  {
   "cell_type": "code",
   "execution_count": null,
   "metadata": {},
   "outputs": [],
   "source": [
    "df_sc1.loc[:,'temp2'] = df_sc1['temp1']"
   ]
  },
  {
   "cell_type": "code",
   "execution_count": null,
   "metadata": {},
   "outputs": [],
   "source": [
    "df_sc1.loc[:,'temp1'] = 'subcortical'"
   ]
  },
  {
   "cell_type": "code",
   "execution_count": null,
   "metadata": {},
   "outputs": [],
   "source": [
    "df_sc2.loc[:,'temp1'] = 'subcortical'"
   ]
  },
  {
   "cell_type": "code",
   "execution_count": null,
   "metadata": {},
   "outputs": [],
   "source": [
    "df_sc2.loc[:,'temp2'] = df_sc2['variable']"
   ]
  },
  {
   "cell_type": "code",
   "execution_count": null,
   "metadata": {},
   "outputs": [],
   "source": [
    "df_sc = pd.merge(df_sc1, df_sc2, how='outer')"
   ]
  },
  {
   "cell_type": "code",
   "execution_count": null,
   "metadata": {},
   "outputs": [],
   "source": [
    "df = pd.merge(df_lr, df_sc, how='outer')"
   ]
  },
  {
   "cell_type": "code",
   "execution_count": null,
   "metadata": {},
   "outputs": [],
   "source": [
    "df['hemi'] = df['temp1']"
   ]
  },
  {
   "cell_type": "code",
   "execution_count": null,
   "metadata": {},
   "outputs": [],
   "source": [
    "df['ROI_name'] = df['temp2']"
   ]
  },
  {
   "cell_type": "code",
   "execution_count": null,
   "metadata": {},
   "outputs": [],
   "source": [
    "df = df[['participant_id', 'group', 'site', 'value', 'variable', 'hemi', 'ROI_name']]"
   ]
  },
  {
   "cell_type": "code",
   "execution_count": null,
   "metadata": {},
   "outputs": [],
   "source": [
    "Z_long = df"
   ]
  },
  {
   "cell_type": "code",
   "execution_count": null,
   "metadata": {},
   "outputs": [],
   "source": [
    "Z_long_pos2 = Z_long.query('value > 2')\n",
    "Z_long_neg2 = Z_long.query('value < -2')"
   ]
  },
  {
   "cell_type": "code",
   "execution_count": null,
   "metadata": {},
   "outputs": [],
   "source": [
    "pos_left_z = Z_long_pos2.query('hemi == \"left\"')\n",
    "pos_right_z = Z_long_pos2.query('hemi == \"right\"')\n",
    "pos_sc_z = Z_long_pos2.query('hemi == \"subcortical\"')\n",
    "neg_left_z = Z_long_neg2.query('hemi == \"left\"')\n",
    "aneg_right_z = Z_long_neg2.query('hemi == \"right\"')\n",
    "neg_sc_z = Z_long_neg2.query('hemi == \"subcortical\"')"
   ]
  },
  {
   "cell_type": "code",
   "execution_count": null,
   "metadata": {},
   "outputs": [],
   "source": [
    "pos_left_z2 = pos_left_z['ROI_name'].value_counts().rename_axis('ROI').reset_index(name='counts')\n",
    "pos_right_z2 = pos_right_z['ROI_name'].value_counts().rename_axis('ROI').reset_index(name='counts')\n",
    "pos_sc_z2 = pos_sc_z['ROI_name'].value_counts().rename_axis('ROI').reset_index(name='counts')\n",
    "neg_left_z2 = neg_left_z['ROI_name'].value_counts().rename_axis('ROI').reset_index(name='counts')\n",
    "neg_right_z2 = neg_right_z['ROI_name'].value_counts().rename_axis('ROI').reset_index(name='counts')\n",
    "neg_sc_z2 = neg_sc_z['ROI_name'].value_counts().rename_axis('ROI').reset_index(name='counts')"
   ]
  },
  {
   "cell_type": "code",
   "execution_count": 2,
   "metadata": {},
   "outputs": [
    {
     "name": "stderr",
     "output_type": "stream",
     "text": [
      "/Users/saigerutherford/opt/anaconda3/lib/python3.7/site-packages/nilearn/datasets/__init__.py:89: FutureWarning: Fetchers from the nilearn.datasets module will be updated in version 0.9 to return python strings instead of bytes and Pandas dataframes instead of Numpy arrays.\n",
      "  \"Numpy arrays.\", FutureWarning)\n"
     ]
    }
   ],
   "source": [
    "from nilearn import plotting\n",
    "import nibabel as nib\n",
    "from nilearn import datasets"
   ]
  },
  {
   "cell_type": "code",
   "execution_count": 3,
   "metadata": {},
   "outputs": [],
   "source": [
    "destrieux_atlas = datasets.fetch_atlas_surf_destrieux()\n",
    "fsaverage = datasets.fetch_surf_fsaverage()"
   ]
  },
  {
   "cell_type": "code",
   "execution_count": 4,
   "metadata": {},
   "outputs": [],
   "source": [
    "# The parcellation is already loaded into memory\n",
    "parcellation_l = destrieux_atlas['map_left']\n",
    "parcellation_r = destrieux_atlas['map_right']"
   ]
  },
  {
   "cell_type": "code",
   "execution_count": 5,
   "metadata": {},
   "outputs": [],
   "source": [
    "nl = pd.read_csv('nilearn_order.csv')"
   ]
  },
  {
   "cell_type": "code",
   "execution_count": 6,
   "metadata": {},
   "outputs": [],
   "source": [
    "cols = ['ROI']"
   ]
  },
  {
   "cell_type": "code",
   "execution_count": 7,
   "metadata": {},
   "outputs": [],
   "source": [
    "nl[cols] = nl[cols].apply(lambda x: x.str.strip())"
   ]
  },
  {
   "cell_type": "code",
   "execution_count": 8,
   "metadata": {},
   "outputs": [],
   "source": [
    "atlas_r = destrieux_atlas['map_right']\n",
    "atlas_l = destrieux_atlas['map_left']"
   ]
  },
  {
   "cell_type": "code",
   "execution_count": 9,
   "metadata": {},
   "outputs": [],
   "source": [
    "nl_ROI = nl['ROI'].to_list()"
   ]
  },
  {
   "cell_type": "markdown",
   "metadata": {},
   "source": [
    "# Extreme positive deviation viz"
   ]
  },
  {
   "cell_type": "code",
   "execution_count": null,
   "metadata": {},
   "outputs": [],
   "source": [
    "nl_pos_left = pd.merge(nl, adhd_pos_left_z2, on='ROI', how='left')\n",
    "nl_pos_right = pd.merge(nl, adhd_pos_right_z2, on='ROI', how='left')"
   ]
  },
  {
   "cell_type": "code",
   "execution_count": null,
   "metadata": {},
   "outputs": [],
   "source": [
    "nl_pos_left['counts'] = nl_pos_right['counts'].fillna(0)\n",
    "nl_pos_right['counts'] = nl_pos_right['counts'].fillna(0)"
   ]
  },
  {
   "cell_type": "code",
   "execution_count": null,
   "metadata": {},
   "outputs": [],
   "source": [
    "nl_pos_left = nl_pos_left['counts'].to_numpy()\n",
    "nl_pos_right = nl_pos_right['counts'].to_numpy()"
   ]
  },
  {
   "cell_type": "code",
   "execution_count": null,
   "metadata": {},
   "outputs": [],
   "source": [
    "a_list = list(range(1, 76))\n",
    "parcellation_pos_l = atlas_l\n",
    "for i, j in enumerate(a_list):\n",
    "    parcellation_pos_l = np.where(parcellation_pos_l == j, nl_pos_left[i], parcellation_pos_l)"
   ]
  },
  {
   "cell_type": "code",
   "execution_count": null,
   "metadata": {},
   "outputs": [],
   "source": [
    "a_list = list(range(1, 76))\n",
    "parcellation_pos_r = atlas_r\n",
    "for i, j in enumerate(a_list):\n",
    "    parcellation_pos_r = np.where(parcellation_pos_r == j, nl_pos_right[i], parcellation_pos_r)"
   ]
  },
  {
   "cell_type": "code",
   "execution_count": null,
   "metadata": {},
   "outputs": [],
   "source": [
    "view = plotting.view_surf(fsaverage.infl_right, parcellation_pos_r, threshold=None, symmetric_cmap=False, vmax=15, cmap='plasma', bg_map=fsaverage.sulc_right)\n",
    "\n",
    "view"
   ]
  },
  {
   "cell_type": "code",
   "execution_count": null,
   "metadata": {},
   "outputs": [],
   "source": [
    "view = plotting.view_surf(fsaverage.infl_left, parcellation_pos_l, threshold=None, symmetric_cmap=False, vmax=15, cmap='plasma', bg_map=fsaverage.sulc_left)\n",
    "\n",
    "view"
   ]
  },
  {
   "cell_type": "markdown",
   "metadata": {},
   "source": [
    "# Extreme negative deviation viz"
   ]
  },
  {
   "cell_type": "code",
   "execution_count": null,
   "metadata": {},
   "outputs": [],
   "source": [
    "nl_neg_left = pd.merge(nl, neg_left_z2, on='ROI', how='left')\n",
    "nl_neg_right = pd.merge(nl, neg_right_z2, on='ROI', how='left')"
   ]
  },
  {
   "cell_type": "code",
   "execution_count": null,
   "metadata": {},
   "outputs": [],
   "source": [
    "nl_neg_left['counts'] = nl_neg_right['counts'].fillna(0)\n",
    "nl_neg_right['counts'] = nl_neg_right['counts'].fillna(0)"
   ]
  },
  {
   "cell_type": "code",
   "execution_count": null,
   "metadata": {},
   "outputs": [],
   "source": [
    "nl_neg_left = nl_neg_left['counts'].to_numpy()\n",
    "nl_eg_right = nl_neg_right['counts'].to_numpy()"
   ]
  },
  {
   "cell_type": "code",
   "execution_count": null,
   "metadata": {},
   "outputs": [],
   "source": [
    "a_list = list(range(1, 76))\n",
    "parcellation_neg_l = atlas_l\n",
    "for i, j in enumerate(a_list):\n",
    "    parcellation_neg_l = np.where(parcellation_neg_l == j, nl_neg_left[i], parcellation_neg_l)"
   ]
  },
  {
   "cell_type": "code",
   "execution_count": null,
   "metadata": {},
   "outputs": [],
   "source": [
    "a_list = list(range(1, 76))\n",
    "parcellation_neg_r = atlas_r\n",
    "for i, j in enumerate(a_list):\n",
    "    parcellation_neg_r = np.where(parcellation_neg_r == j, nl_neg_right[i], parcellation_neg_r)"
   ]
  },
  {
   "cell_type": "code",
   "execution_count": null,
   "metadata": {},
   "outputs": [],
   "source": [
    "view = plotting.view_surf(fsaverage.infl_right, parcellation_neg_r, threshold=None, symmetric_cmap=False, vmax=15, cmap='plasma', bg_map=fsaverage.sulc_right)\n",
    "\n",
    "view"
   ]
  },
  {
   "cell_type": "code",
   "execution_count": null,
   "metadata": {},
   "outputs": [],
   "source": [
    "#vmax=10\n",
    "view = plotting.view_surf(fsaverage.infl_left, parcellation_neg_r, threshold=None, symmetric_cmap=False, vmax=15, cmap='plasma', bg_map=fsaverage.sulc_left)\n",
    "\n",
    "view"
   ]
  }
 ],
 "metadata": {
  "kernelspec": {
   "display_name": "Python 3 (ipykernel)",
   "language": "python",
   "name": "python3"
  },
  "language_info": {
   "codemirror_mode": {
    "name": "ipython",
    "version": 3
   },
   "file_extension": ".py",
   "mimetype": "text/x-python",
   "name": "python",
   "nbconvert_exporter": "python",
   "pygments_lexer": "ipython3",
   "version": "3.8.11"
  }
 },
 "nbformat": 4,
 "nbformat_minor": 4
}
