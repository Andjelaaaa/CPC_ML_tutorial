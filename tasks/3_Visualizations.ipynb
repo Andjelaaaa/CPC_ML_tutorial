{
  "nbformat": 4,
  "nbformat_minor": 0,
  "metadata": {
    "kernelspec": {
      "display_name": "Python 3 (ipykernel)",
      "language": "python",
      "name": "python3"
    },
    "language_info": {
      "codemirror_mode": {
        "name": "ipython",
        "version": 3
      },
      "file_extension": ".py",
      "mimetype": "text/x-python",
      "name": "python",
      "nbconvert_exporter": "python",
      "pygments_lexer": "ipython3",
      "version": "3.8.11"
    },
    "colab": {
      "name": "3_Visualizations.ipynb",
      "provenance": [],
      "toc_visible": true
    }
  },
  "cells": [
    {
      "cell_type": "markdown",
      "metadata": {
        "id": "HWR8M_FM0kCa"
      },
      "source": [
        "# Brain Space Visualization of Deviation Scores"
      ]
    },
    {
      "cell_type": "markdown",
      "metadata": {
        "id": "nEkEuf7H0kCb"
      },
      "source": [
        "## Count the number of extreme (positive & negative) deviations at each brain region and visualize the count for each hemisphere."
      ]
    },
    {
      "cell_type": "code",
      "metadata": {
        "id": "SdVyEOWVJNyy"
      },
      "source": [
        "! git clone https://github.com/saigerutherford/CPC_ML_tutorial.git"
      ],
      "execution_count": null,
      "outputs": []
    },
    {
      "cell_type": "code",
      "metadata": {
        "id": "6c0O3oKQ0kCW"
      },
      "source": [
        "import os\n",
        "import pandas as pd\n",
        "import numpy as np\n",
        "import matplotlib.pyplot as plt\n",
        "import seaborn as sns"
      ],
      "execution_count": null,
      "outputs": []
    },
    {
      "cell_type": "code",
      "metadata": {
        "id": "XwQOtrKmKd-T"
      },
      "source": [
        "os.chdir('/content/CPC_ML_tutorial')"
      ],
      "execution_count": null,
      "outputs": []
    },
    {
      "cell_type": "code",
      "metadata": {
        "id": "bruuGS8Z0kCb"
      },
      "source": [
        "Z_df = pd.read_csv('data/Z_long_format.csv')"
      ],
      "execution_count": null,
      "outputs": []
    },
    {
      "cell_type": "code",
      "metadata": {
        "id": "CtDtz47p0kCn"
      },
      "source": [
        "# Change this threshold to view more or less extreme deviations.\n",
        "Z_positive = Z_df.query('value > 2')\n",
        "Z_negative = Z_df.query('value < -2')"
      ],
      "execution_count": null,
      "outputs": []
    },
    {
      "cell_type": "code",
      "metadata": {
        "id": "OCrM8a-c0kCn"
      },
      "source": [
        "positive_left_z = Z_positive.query('hemi == \"left\"')\n",
        "positive_right_z = Z_positive.query('hemi == \"right\"')\n",
        "positive_sc_z = Z_positive.query('hemi == \"subcortical\"')\n",
        "negative_left_z = Z_negative.query('hemi == \"left\"')\n",
        "negative_right_z = Z_negative.query('hemi == \"right\"')\n",
        "negative_sc_z = Z_negative.query('hemi == \"subcortical\"')"
      ],
      "execution_count": null,
      "outputs": []
    },
    {
      "cell_type": "code",
      "metadata": {
        "id": "2oeEd6Ay0kCo"
      },
      "source": [
        "positive_left_z2 = positive_left_z['ROI_name'].value_counts().rename_axis('ROI').reset_index(name='counts')\n",
        "positive_right_z2 = positive_right_z['ROI_name'].value_counts().rename_axis('ROI').reset_index(name='counts')\n",
        "positive_sc_z2 = positive_sc_z['ROI_name'].value_counts().rename_axis('ROI').reset_index(name='counts')\n",
        "negative_left_z2 = negative_left_z['ROI_name'].value_counts().rename_axis('ROI').reset_index(name='counts')\n",
        "negative_right_z2 = negative_right_z['ROI_name'].value_counts().rename_axis('ROI').reset_index(name='counts')\n",
        "negative_sc_z2 = negative_sc_z['ROI_name'].value_counts().rename_axis('ROI').reset_index(name='counts')"
      ],
      "execution_count": null,
      "outputs": []
    },
    {
      "cell_type": "code",
      "metadata": {
        "id": "NlTVUuR6TyXq"
      },
      "source": [
        "positive_left_z2.describe()"
      ],
      "execution_count": null,
      "outputs": []
    },
    {
      "cell_type": "code",
      "metadata": {
        "id": "ugzcZHLDT8ve"
      },
      "source": [
        "negative_right_z2.describe()"
      ],
      "execution_count": null,
      "outputs": []
    },
    {
      "cell_type": "code",
      "metadata": {
        "id": "BikyDuO_K_I3"
      },
      "source": [
        "! pip install nilearn"
      ],
      "execution_count": null,
      "outputs": []
    },
    {
      "cell_type": "code",
      "metadata": {
        "id": "mzYmi_cK0kCo"
      },
      "source": [
        "from nilearn import plotting\n",
        "import nibabel as nib\n",
        "from nilearn import datasets"
      ],
      "execution_count": null,
      "outputs": []
    },
    {
      "cell_type": "code",
      "metadata": {
        "id": "jxRXeYHd0kCp"
      },
      "source": [
        "destrieux_atlas = datasets.fetch_atlas_surf_destrieux()\n",
        "fsaverage = datasets.fetch_surf_fsaverage()"
      ],
      "execution_count": null,
      "outputs": []
    },
    {
      "cell_type": "code",
      "metadata": {
        "id": "18hyJU3Z0kCp"
      },
      "source": [
        "# The parcellation is already loaded into memory\n",
        "parcellation_l = destrieux_atlas['map_left']\n",
        "parcellation_r = destrieux_atlas['map_right']"
      ],
      "execution_count": null,
      "outputs": []
    },
    {
      "cell_type": "code",
      "metadata": {
        "id": "9ewObTkj0kCp"
      },
      "source": [
        "nl = pd.read_csv('data/nilearn_order.csv')"
      ],
      "execution_count": null,
      "outputs": []
    },
    {
      "cell_type": "code",
      "metadata": {
        "id": "RoAgRhiO0kCq"
      },
      "source": [
        "atlas_r = destrieux_atlas['map_right']\n",
        "atlas_l = destrieux_atlas['map_left']"
      ],
      "execution_count": null,
      "outputs": []
    },
    {
      "cell_type": "code",
      "metadata": {
        "id": "gvN_Slut0kCq"
      },
      "source": [
        "nl_ROI = nl['ROI'].to_list()"
      ],
      "execution_count": null,
      "outputs": []
    },
    {
      "cell_type": "markdown",
      "metadata": {
        "id": "T8wirzP50kCq"
      },
      "source": [
        "# Extreme positive deviation viz"
      ]
    },
    {
      "cell_type": "code",
      "metadata": {
        "id": "sVur0mfY0kCq"
      },
      "source": [
        "nl_positive_left = pd.merge(nl, positive_left_z2, on='ROI', how='left')\n",
        "nl_positive_right = pd.merge(nl, positive_right_z2, on='ROI', how='left')"
      ],
      "execution_count": null,
      "outputs": []
    },
    {
      "cell_type": "code",
      "metadata": {
        "id": "V1b4dXlB0kCq"
      },
      "source": [
        "nl_positive_left['counts'] = nl_positive_right['counts'].fillna(0)\n",
        "nl_positive_right['counts'] = nl_positive_right['counts'].fillna(0)"
      ],
      "execution_count": null,
      "outputs": []
    },
    {
      "cell_type": "code",
      "metadata": {
        "id": "6TIc-8JE0kCr"
      },
      "source": [
        "nl_positive_left = nl_positive_left['counts'].to_numpy()\n",
        "nl_positive_right = nl_positive_right['counts'].to_numpy()"
      ],
      "execution_count": null,
      "outputs": []
    },
    {
      "cell_type": "code",
      "metadata": {
        "id": "dpFgV9610kCr"
      },
      "source": [
        "a_list = list(range(1, 76))\n",
        "parcellation_positive_l = atlas_l\n",
        "for i, j in enumerate(a_list):\n",
        "    parcellation_positive_l = np.where(parcellation_positive_l == j, nl_positive_left[i], parcellation_positive_l)"
      ],
      "execution_count": null,
      "outputs": []
    },
    {
      "cell_type": "code",
      "metadata": {
        "id": "LEb86JQP0kCr"
      },
      "source": [
        "a_list = list(range(1, 76))\n",
        "parcellation_positive_r = atlas_r\n",
        "for i, j in enumerate(a_list):\n",
        "    parcellation_positive_r = np.where(parcellation_positive_r == j, nl_positive_right[i], parcellation_positive_r)"
      ],
      "execution_count": null,
      "outputs": []
    },
    {
      "cell_type": "code",
      "metadata": {
        "id": "Uvo8bs0J0kCr"
      },
      "source": [
        "view = plotting.view_surf(fsaverage.infl_right, parcellation_positive_r, threshold=None, symmetric_cmap=False, cmap='plasma', bg_map=fsaverage.sulc_right)\n",
        "\n",
        "view"
      ],
      "execution_count": null,
      "outputs": []
    },
    {
      "cell_type": "code",
      "metadata": {
        "id": "knItaGcv0kCr"
      },
      "source": [
        "view = plotting.view_surf(fsaverage.infl_left, parcellation_positive_l, threshold=None, symmetric_cmap=False, cmap='plasma', bg_map=fsaverage.sulc_left)\n",
        "\n",
        "view"
      ],
      "execution_count": null,
      "outputs": []
    },
    {
      "cell_type": "markdown",
      "metadata": {
        "id": "k-ASdN3T0kCr"
      },
      "source": [
        "# Extreme negative deviation viz"
      ]
    },
    {
      "cell_type": "code",
      "metadata": {
        "id": "8jEf15fg0kCr"
      },
      "source": [
        "nl_negative_left = pd.merge(nl, negative_left_z2, on='ROI', how='left')\n",
        "nl_negative_right = pd.merge(nl, negative_right_z2, on='ROI', how='left')"
      ],
      "execution_count": null,
      "outputs": []
    },
    {
      "cell_type": "code",
      "metadata": {
        "id": "TcPzp2ZC0kCr"
      },
      "source": [
        "nl_negative_left['counts'] = nl_negative_left['counts'].fillna(0)\n",
        "nl_negative_right['counts'] = nl_negative_right['counts'].fillna(0)"
      ],
      "execution_count": null,
      "outputs": []
    },
    {
      "cell_type": "code",
      "metadata": {
        "id": "KIoAvRlN0kCs"
      },
      "source": [
        "nl_negative_left = nl_negative_left['counts'].to_numpy()\n",
        "nl_negative_right = nl_negative_right['counts'].to_numpy()"
      ],
      "execution_count": null,
      "outputs": []
    },
    {
      "cell_type": "code",
      "metadata": {
        "id": "Ksv8QuLW0kCs"
      },
      "source": [
        "a_list = list(range(1, 76))\n",
        "parcellation_negative_l = atlas_l\n",
        "for i, j in enumerate(a_list):\n",
        "    parcellation_negative_l = np.where(parcellation_negative_l == j, nl_negative_left[i], parcellation_negative_l)"
      ],
      "execution_count": null,
      "outputs": []
    },
    {
      "cell_type": "code",
      "metadata": {
        "id": "QXmjD4jQ0kCs"
      },
      "source": [
        "a_list = list(range(1, 76))\n",
        "parcellation_negative_r = atlas_r\n",
        "for i, j in enumerate(a_list):\n",
        "    parcellation_negative_r = np.where(parcellation_negative_r == j, nl_negative_right[i], parcellation_negative_r)"
      ],
      "execution_count": null,
      "outputs": []
    },
    {
      "cell_type": "code",
      "metadata": {
        "id": "suomHT4C0kCs"
      },
      "source": [
        "view = plotting.view_surf(fsaverage.infl_right, parcellation_negative_r, threshold=None, symmetric_cmap=False, cmap='plasma', bg_map=fsaverage.sulc_right)\n",
        "\n",
        "view"
      ],
      "execution_count": null,
      "outputs": []
    },
    {
      "cell_type": "code",
      "metadata": {
        "id": "FbbhY4L80kCs"
      },
      "source": [
        "view = plotting.view_surf(fsaverage.infl_left, parcellation_negative_l, threshold=None, symmetric_cmap=False, cmap='plasma', bg_map=fsaverage.sulc_left)\n",
        "\n",
        "view"
      ],
      "execution_count": null,
      "outputs": []
    }
  ]
}