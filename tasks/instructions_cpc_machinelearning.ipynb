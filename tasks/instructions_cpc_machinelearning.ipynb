{
  "nbformat": 4,
  "nbformat_minor": 0,
  "metadata": {
    "colab": {
      "name": "instructions_cpc_machinelearning.ipynb",
      "provenance": [],
      "collapsed_sections": []
    },
    "kernelspec": {
      "name": "python3",
      "display_name": "Python 3"
    }
  },
  "cells": [
    {
      "cell_type": "code",
      "metadata": {
        "id": "yawDkTLoKYRu",
        "colab_type": "code",
        "colab": {}
      },
      "source": [
        "!pip install pcntoolkit"
      ],
      "execution_count": null,
      "outputs": []
    },
    {
      "cell_type": "markdown",
      "metadata": {
        "id": "hC8rsih7PHa_",
        "colab_type": "text"
      },
      "source": [
        "## Background Story\n",
        "\n",
        "Morten and Ingrid are concerned about the health of their father, Nordan. He recently turned 65 years. A few months ago his speech became a bit disorganized. Recently, he could not remember the name of his two grant children. Together, they visit a neurologist/psychiatrist to conduct a number of \tcognitive tests. However, those tests were inconclusive, while Nordan had a relatively low IQ of 74 points, it could not explain his problems.\n",
        "\n",
        "Recently, the family heard about a new screening technique called normative modeling with which one can place individuals in reference to a population norm on for instance measures such as brain volume. Nordan would like to undertake this procedure to better know what is going on and to potentially find targets for treatment. Therefore, the family booked an appointment with you, the normative modeling specialist. You conduct a brain scan of the hyppocampus. \n",
        "\n",
        "_______________________________________________________________________________"
      ]
    },
    {
      "cell_type": "markdown",
      "metadata": {
        "id": "kvSiRjysuGkV",
        "colab_type": "text"
      },
      "source": [
        "**TASK 1:** You have four files. The feature and demographics file for the normsample and two files of the same name for Nordan your test sample. As one of your coworkers has done the preporcessing and quality control for the data for you, there are more subjects in the demographics file than in the feature file of the norm sample. Please select the overlap of participants between those two files. "
      ]
    },
    {
      "cell_type": "code",
      "metadata": {
        "colab_type": "code",
        "id": "_RSfxGWku6fU",
        "colab": {}
      },
      "source": [
        "import pandas as pd\n",
        "\n",
        "#CODE HERE"
      ],
      "execution_count": null,
      "outputs": []
    },
    {
      "cell_type": "markdown",
      "metadata": {
        "id": "fUufLg4lQWdn",
        "colab_type": "text"
      },
      "source": [
        "**TASK 2:** Prepare the covariate_normsample and testresponse_normsample file. As mentioned in the introductory presentation those files need a specific format and the entries need to be seperated by spaces. Use whatever method you know to prepare those files based on the data provided in TASK 1. Save those files in .txt format and as mentioned earlier seperate each entry by a space. Also get rid of the column names and subject IDs."
      ]
    },
    {
      "cell_type": "code",
      "metadata": {
        "id": "lzt6llxyRPyY",
        "colab_type": "code",
        "colab": {}
      },
      "source": [
        "import pandas as pd\n",
        "\n",
        "#CODE HERE"
      ],
      "execution_count": null,
      "outputs": []
    },
    {
      "cell_type": "markdown",
      "metadata": {
        "id": "irR4FAIvQ8ds",
        "colab_type": "text"
      },
      "source": [
        "**TASK 3:** Once you have prepared all the necessary files. Look at the pcntoolkit for running normative modeling. Select an appropritate method set up the toolkit and run your analyses using 10-fold cross validation in the normsample only. HINT: You primarily need the estimate function and it might be useful to select only two regions of the hyppocampus as the computations might take too long otherwise. base your choice on your prior knowlege of the hyppocampus and its involvement in memory processes."
      ]
    },
    {
      "cell_type": "code",
      "metadata": {
        "id": "yRTusEg6SRNL",
        "colab_type": "code",
        "colab": {}
      },
      "source": [
        "import pcntoolkit as pcn\n",
        "\n",
        "#CODE HERE"
      ],
      "execution_count": null,
      "outputs": []
    },
    {
      "cell_type": "markdown",
      "metadata": {
        "id": "Nonuk7d_SNM6",
        "colab_type": "text"
      },
      "source": [
        "**TASK 4:** In order to visulize the normative trajectories you first need to run the forward model. To this end you need to set up an appropriate covariate_forwardmodel file. Then you can input the files you made in TASK 1 as well as the file you made now and run the forward model using the appropriate specifications."
      ]
    },
    {
      "cell_type": "code",
      "metadata": {
        "id": "22U-knkWSPsZ",
        "colab_type": "code",
        "colab": {}
      },
      "source": [
        "import pandas as pd \n",
        "import pcntoolkit as pcn\n",
        "\n",
        "#CODE HERE"
      ],
      "execution_count": null,
      "outputs": []
    },
    {
      "cell_type": "markdown",
      "metadata": {
        "id": "1Mypo4xrT7ID",
        "colab_type": "text"
      },
      "source": [
        "**TASK 5:** Visuallize the forward model by plotting Yhat of all hyppocampal structures as a function of age. Use the 95% confidence interval to plot Ystd around it."
      ]
    },
    {
      "cell_type": "code",
      "metadata": {
        "id": "WbspdnaWW3d-",
        "colab_type": "code",
        "colab": {}
      },
      "source": [
        "import seaborn as sns # you can use any other tool for visualization\n",
        "\n",
        "#CODE HERE"
      ],
      "execution_count": null,
      "outputs": []
    },
    {
      "cell_type": "markdown",
      "metadata": {
        "colab_type": "text",
        "id": "yM4z1BtyWwiF"
      },
      "source": [
        "**TASK 6:** Apply the normative model to Nordan's brain."
      ]
    },
    {
      "cell_type": "code",
      "metadata": {
        "id": "eVTYxKjvWBvm",
        "colab_type": "code",
        "colab": {}
      },
      "source": [
        "import pcntoolkit as pcn\n",
        "\n",
        "#CODE HERE"
      ],
      "execution_count": null,
      "outputs": []
    },
    {
      "cell_type": "markdown",
      "metadata": {
        "id": "LFnHCy0XVVwl",
        "colab_type": "text"
      },
      "source": [
        "**TASK 7:** Plot Nordan's brian in reference to the estimated and visuallized models for the hyppocampal structure(s) as well as his cognitive scores."
      ]
    },
    {
      "cell_type": "code",
      "metadata": {
        "id": "o2Fztrp8XIrW",
        "colab_type": "code",
        "colab": {}
      },
      "source": [
        "import seaborn as sns\n",
        "\n",
        "#CODE HERE"
      ],
      "execution_count": null,
      "outputs": []
    },
    {
      "cell_type": "markdown",
      "metadata": {
        "id": "c7hd0-5CXolD",
        "colab_type": "text"
      },
      "source": [
        "**EXTRA TASK 8:** Sort all participants on their cognitive test performance and compare the number of extreme positive and extreme negative deviations per participants in the best and worse 10% statistically, based on a threshold for extreme deviations of |Z|= 1.96."
      ]
    },
    {
      "cell_type": "code",
      "metadata": {
        "id": "11e1Fzf8X3ja",
        "colab_type": "code",
        "colab": {}
      },
      "source": [
        "import pandas as pd\n",
        "import statsmodels as stats\n",
        "\n",
        "#CODE HERE"
      ],
      "execution_count": null,
      "outputs": []
    },
    {
      "cell_type": "markdown",
      "metadata": {
        "id": "xZhRn4Q4X_-A",
        "colab_type": "text"
      },
      "source": [
        "**EXTRA TASK 9:** Plot how the number and the statistical comparison of extreme positive and extreme negative deviations in both groups changes as a function of adjusting the threshold dynamically from |Z|= 1.96. to |Z| = 10."
      ]
    },
    {
      "cell_type": "code",
      "metadata": {
        "colab_type": "code",
        "id": "DEh8_3cJYsbw",
        "colab": {}
      },
      "source": [
        "import pandas as pd\n",
        "import statsmodels as stats\n",
        "\n",
        "#CODE HERE"
      ],
      "execution_count": null,
      "outputs": []
    }
  ]
}