{
 "cells": [
  {
   "cell_type": "markdown",
   "metadata": {
    "colab_type": "text",
    "id": "view-in-github"
   },
   "source": [
    "<a href=\"https://colab.research.google.com/github/saigerutherford/CPC_ML_tutorial/blob/master/tasks_key/key_cpc_normative_modeling_instructions.ipynb\" target=\"_parent\"><img src=\"https://colab.research.google.com/assets/colab-badge.svg\" alt=\"Open In Colab\"/></a>"
   ]
  },
  {
   "cell_type": "markdown",
   "metadata": {
    "colab_type": "text",
    "id": "hC8rsih7PHa_",
    "tags": []
   },
   "source": [
    "# **CPC TUTORIAL ON MACHINE LEARNING & NORMATIVE MODELING**\n",
    "\n",
    "\n",
    "Created by: [Saige Rutherford](https://twitter.com/being_saige) & [Thomas Wolfers](https://twitter.com/ThomasWolfers)\n",
    "_______________________________________________________________________________"
   ]
  },
  {
   "cell_type": "markdown",
   "metadata": {
    "colab_type": "text",
    "id": "irl08XE1AG9v"
   },
   "source": [
    "## **Background Story**\n",
    "\n",
    "Morten and Ingrid are concerned about the health of their father, Nordan. He recently turned 65 years old. A few months ago he could not find his way home. Together, they visit a neurologist/psychiatrist to conduct a number of cognitive tests. However, those tests were inconclusive. While Nordan has a relatively low IQ it could not explain his trouble returning home.\n",
    "\n",
    "Recently, the family heard about a new screening technique called normative modeling with which one can place individuals in reference to a population norm on for instance measures such as brain volume. Nordan would like to undertake this procedure to better know what is going on and to potentially find targets for treatment. Therefore, the family booked an appointment with you, the normative modeling specialist. To find out what is going on you compare Nordan's hyppocampus to the norm and to a group of persons with Dementia disorders, who have a similar IQ, age as well as the same sex as Nordan.\n",
    "\n",
    "Do your best to get as far as you can. However, you do not need to feel bad if you cannot complete everything during the tutorial. All materials will stay online and can be accessed after the course. \n"
   ]
  },
  {
   "cell_type": "markdown",
   "metadata": {
    "colab_type": "text",
    "id": "udo6yANOCpvp"
   },
   "source": [
    "## **Task 0:** Load data and install the pcntoolkit "
   ]
  },
  {
   "cell_type": "code",
   "execution_count": null,
   "metadata": {
    "colab": {},
    "colab_type": "code",
    "id": "yawDkTLoKYRu"
   },
   "outputs": [],
   "source": [
    "# Install the normative modeling python package, predictive clinical neuroscience (pcn) toolkit\n",
    "# Make sure you use pcntoolkit version 0.20 and python 3.8\n",
    "!pip install pcntoolkit==0.20"
   ]
  },
  {
   "cell_type": "markdown",
   "metadata": {
    "colab_type": "text",
    "id": "EHDKe2ohCxP4"
   },
   "source": [
    "**Option 1:** Connect your Google Drive account, and load data from Google Drive. Having Google Drive connected will allow you to save any files created back to your Drive folder. This step will require you to download the csv files from [Github](https://github.com/saigerutherford/CPC_ML_tutorial/tree/master/data) to your computer, and then make a folder in your Google Drive account and upload the csv files to this folder. "
   ]
  },
  {
   "cell_type": "code",
   "execution_count": null,
   "metadata": {
    "colab": {},
    "colab_type": "code",
    "id": "0SMVyxNZqmlv"
   },
   "outputs": [],
   "source": [
    "from google.colab import drive\n",
    "drive.mount('/content/drive')\n",
    "\n",
    "#change dir to data on your google drive\n",
    "import os\n",
    "os.chdir('drive/My Drive/name-of-folder-where-you-uploaded-csv-files-from-Github/') #Change this path to match the path to your data in Google Drive"
   ]
  },
  {
   "cell_type": "markdown",
   "metadata": {
    "colab_type": "text",
    "id": "Bst55nPJDHKb"
   },
   "source": [
    "**Option 2 (preferred):** Import the files directly from Github, and skip adding them to Google Drive."
   ]
  },
  {
   "cell_type": "code",
   "execution_count": null,
   "metadata": {
    "colab": {},
    "colab_type": "code",
    "id": "zuuSkJwPDRrv"
   },
   "outputs": [],
   "source": [
    "!wget -nc https://raw.githubusercontent.com/saigerutherford/CPC_ML_tutorial/master/data/cam_demographics.csv\n",
    "!wget -nc https://raw.githubusercontent.com/saigerutherford/CPC_ML_tutorial/master/data/hcp_demographics_nordan.csv\n",
    "!wget -nc https://raw.githubusercontent.com/saigerutherford/CPC_ML_tutorial/master/data/ixi_demographics_nordan.csv\n",
    "!wget -nc https://raw.githubusercontent.com/saigerutherford/CPC_ML_tutorial/master/data/cam_aparc_thickness.csv\n",
    "!wget -nc https://raw.githubusercontent.com/saigerutherford/CPC_ML_tutorial/master/data/hcp_aparc_thickness.csv\n",
    "!wget -nc https://raw.githubusercontent.com/saigerutherford/CPC_ML_tutorial/master/data/ixi_aparc_thickness.csv"
   ]
  },
  {
   "cell_type": "code",
   "execution_count": 2,
   "metadata": {},
   "outputs": [
    {
     "name": "stdout",
     "output_type": "stream",
     "text": [
      "key_cpc_machinelearning.ipynb\n"
     ]
    }
   ],
   "source": []
  },
  {
   "cell_type": "code",
   "execution_count": 3,
   "metadata": {},
   "outputs": [],
   "source": [
    "# import necessary libraries\n",
    "import os\n",
    "import numpy as np\n",
    "import pandas as pd\n",
    "import pickle\n",
    "from matplotlib import pyplot as plt\n",
    "import seaborn as sns\n",
    "from sklearn.model_selection import train_test_split\n",
    "\n",
    "os.chdir('/Users/saigerutherford/repos/CPC_ML_tutorial/')"
   ]
  },
  {
   "cell_type": "code",
   "execution_count": 4,
   "metadata": {},
   "outputs": [],
   "source": [
    "from pcntoolkit.normative import estimate, predict, evaluate\n",
    "from pcntoolkit.util.utils import compute_MSLL, create_design_matrix\n",
    "from nm_utils import calibration_descriptives, remove_bad_subjects, load_2d"
   ]
  },
  {
   "cell_type": "markdown",
   "metadata": {
    "colab_type": "text",
    "id": "kvSiRjysuGkV",
    "tags": []
   },
   "source": [
    "## **TASK 1:** Format input data"
   ]
  },
  {
   "cell_type": "markdown",
   "metadata": {
    "colab_type": "text",
    "id": "N2Bon1mJAVjJ"
   },
   "source": [
    "You have four files. The features and demographics file for the training set (normative sample) and two files of the same name for Nordan (your test sample). As one of your co-workers has done the preporcessing and quality control, there are more subjects in the demographics file than in the features file of the norm sample. Please select the overlap of participants between those two files. \n",
    "\n",
    "*Question for your understanding:*\n",
    "\n",
    "1) Why do we have to select the overlap between participants in terms of features and demographics?"
   ]
  },
  {
   "cell_type": "code",
   "execution_count": 82,
   "metadata": {
    "collapsed": true,
    "jupyter": {
     "outputs_hidden": true,
     "source_hidden": true
    },
    "tags": []
   },
   "outputs": [
    {
     "data": {
      "text/plain": [
       "<Figure size 2280x1520 with 0 Axes>"
      ]
     },
     "metadata": {},
     "output_type": "display_data"
    },
    {
     "data": {
      "image/png": "[encoded data removed]",
      "text/plain": [
       "<Figure size 432x432 with 4 Axes>"
      ]
     },
     "metadata": {
      "needs_background": "light"
     },
     "output_type": "display_data"
    }
   ],
   "source": [
    "import joypy\n",
    "pd.set_option('display.max_rows', 500)\n",
    "pd.set_option('display.max_columns', 500)\n",
    "pd.set_option('display.width', 1000)\n",
    "#create a color gradent function to be used in the colormap parameter\n",
    "def color_gradient(x=0.0, start=(0, 0, 0), stop=(1, 1, 1)):\n",
    "    r = np.interp(x, [0, 1], [start[0], stop[0]])\n",
    "    g = np.interp(x, [0, 1], [start[1], stop[1]])\n",
    "    b = np.interp(x, [0, 1], [start[2], stop[2]])\n",
    "    return r, g, b#show the table\n",
    "#plot the figure\n",
    "plt.figure(dpi=380)\n",
    "fig, axes = joypy.joyplot(df, column=['avg_euler_centered_neg_sqrt'], overlap=2.5, by=\"site\", ylim='own', fill=True, figsize=(6,6)\n",
    "                          , legend=False, xlabels=True, ylabels=True, colormap=lambda x: color_gradient(x, start=(.08, .45, .8),stop=(.8, .34, .44))\n",
    "                          , alpha=0.6, linewidth=.5, linecolor='w', fade=True)\n",
    "plt.title('sqrt(-Euler Number), median centered', fontsize=18, color='black', alpha=1)\n",
    "plt.xlabel('sqrt(-Euler number)', fontsize=14, color='black', alpha=1)\n",
    "plt.ylabel('Site', fontsize=14, color='black', alpha=1)\n",
    "plt.show()"
   ]
  },
  {
   "cell_type": "code",
   "execution_count": 98,
   "metadata": {},
   "outputs": [
    {
     "data": {
      "text/plain": [
       "Index(['age', 'sex', 'site', 'avg_euler_centered_neg_sqrt'], dtype='object')"
      ]
     },
     "execution_count": 98,
     "metadata": {},
     "output_type": "execute_result"
    }
   ],
   "source": [
    "train_covariates.columns"
   ]
  },
  {
   "cell_type": "code",
   "execution_count": 97,
   "metadata": {
    "colab": {},
    "colab_type": "code",
    "id": "_RSfxGWku6fU"
   },
   "outputs": [
    {
     "ename": "MergeError",
     "evalue": "No common columns to perform merge on. Merge options: left_on=None, right_on=None, left_index=False, right_index=False",
     "output_type": "error",
     "traceback": [
      "\u001b[0;31m---------------------------------------------------------------------------\u001b[0m",
      "\u001b[0;31mMergeError\u001b[0m                                Traceback (most recent call last)",
      "\u001b[0;32m/var/folders/xx/1xs7sc795_nf7k125153b6qh0000gn/T/ipykernel_55452/2267586419.py\u001b[0m in \u001b[0;36m<module>\u001b[0;34m\u001b[0m\n\u001b[1;32m      6\u001b[0m \u001b[0;31m# find overlap in terms of participants between the train features and covariates dataframes\u001b[0m\u001b[0;34m\u001b[0m\u001b[0;34m\u001b[0m\u001b[0;34m\u001b[0m\u001b[0m\n\u001b[1;32m      7\u001b[0m \u001b[0;34m\u001b[0m\u001b[0m\n\u001b[0;32m----> 8\u001b[0;31m \u001b[0mtrain_df\u001b[0m \u001b[0;34m=\u001b[0m \u001b[0mpd\u001b[0m\u001b[0;34m.\u001b[0m\u001b[0mmerge\u001b[0m\u001b[0;34m(\u001b[0m\u001b[0mtrain_covariates\u001b[0m\u001b[0;34m,\u001b[0m \u001b[0mtrain_features\u001b[0m\u001b[0;34m,\u001b[0m \u001b[0mhow\u001b[0m \u001b[0;34m=\u001b[0m \u001b[0;34m'inner'\u001b[0m\u001b[0;34m)\u001b[0m \u001b[0;31m# inner checks overlap\u001b[0m\u001b[0;34m\u001b[0m\u001b[0;34m\u001b[0m\u001b[0m\n\u001b[0m",
      "\u001b[0;32m/opt/anaconda3/envs/cpc_ml/lib/python3.8/site-packages/pandas/core/reshape/merge.py\u001b[0m in \u001b[0;36mmerge\u001b[0;34m(left, right, how, on, left_on, right_on, left_index, right_index, sort, suffixes, copy, indicator, validate)\u001b[0m\n\u001b[1;32m    105\u001b[0m     \u001b[0mvalidate\u001b[0m\u001b[0;34m:\u001b[0m \u001b[0mstr\u001b[0m \u001b[0;34m|\u001b[0m \u001b[0;32mNone\u001b[0m \u001b[0;34m=\u001b[0m \u001b[0;32mNone\u001b[0m\u001b[0;34m,\u001b[0m\u001b[0;34m\u001b[0m\u001b[0;34m\u001b[0m\u001b[0m\n\u001b[1;32m    106\u001b[0m ) -> DataFrame:\n\u001b[0;32m--> 107\u001b[0;31m     op = _MergeOperation(\n\u001b[0m\u001b[1;32m    108\u001b[0m         \u001b[0mleft\u001b[0m\u001b[0;34m,\u001b[0m\u001b[0;34m\u001b[0m\u001b[0;34m\u001b[0m\u001b[0m\n\u001b[1;32m    109\u001b[0m         \u001b[0mright\u001b[0m\u001b[0;34m,\u001b[0m\u001b[0;34m\u001b[0m\u001b[0;34m\u001b[0m\u001b[0m\n",
      "\u001b[0;32m/opt/anaconda3/envs/cpc_ml/lib/python3.8/site-packages/pandas/core/reshape/merge.py\u001b[0m in \u001b[0;36m__init__\u001b[0;34m(self, left, right, how, on, left_on, right_on, axis, left_index, right_index, sort, suffixes, copy, indicator, validate)\u001b[0m\n\u001b[1;32m    680\u001b[0m             \u001b[0mwarnings\u001b[0m\u001b[0;34m.\u001b[0m\u001b[0mwarn\u001b[0m\u001b[0;34m(\u001b[0m\u001b[0mmsg\u001b[0m\u001b[0;34m,\u001b[0m \u001b[0mFutureWarning\u001b[0m\u001b[0;34m,\u001b[0m \u001b[0mstacklevel\u001b[0m\u001b[0;34m=\u001b[0m\u001b[0;36m3\u001b[0m\u001b[0;34m)\u001b[0m\u001b[0;34m\u001b[0m\u001b[0;34m\u001b[0m\u001b[0m\n\u001b[1;32m    681\u001b[0m \u001b[0;34m\u001b[0m\u001b[0m\n\u001b[0;32m--> 682\u001b[0;31m         \u001b[0mself\u001b[0m\u001b[0;34m.\u001b[0m\u001b[0m_validate_specification\u001b[0m\u001b[0;34m(\u001b[0m\u001b[0;34m)\u001b[0m\u001b[0;34m\u001b[0m\u001b[0;34m\u001b[0m\u001b[0m\n\u001b[0m\u001b[1;32m    683\u001b[0m \u001b[0;34m\u001b[0m\u001b[0m\n\u001b[1;32m    684\u001b[0m         \u001b[0mcross_col\u001b[0m \u001b[0;34m=\u001b[0m \u001b[0;32mNone\u001b[0m\u001b[0;34m\u001b[0m\u001b[0;34m\u001b[0m\u001b[0m\n",
      "\u001b[0;32m/opt/anaconda3/envs/cpc_ml/lib/python3.8/site-packages/pandas/core/reshape/merge.py\u001b[0m in \u001b[0;36m_validate_specification\u001b[0;34m(self)\u001b[0m\n\u001b[1;32m   1340\u001b[0m                 \u001b[0mcommon_cols\u001b[0m \u001b[0;34m=\u001b[0m \u001b[0mleft_cols\u001b[0m\u001b[0;34m.\u001b[0m\u001b[0mintersection\u001b[0m\u001b[0;34m(\u001b[0m\u001b[0mright_cols\u001b[0m\u001b[0;34m)\u001b[0m\u001b[0;34m\u001b[0m\u001b[0;34m\u001b[0m\u001b[0m\n\u001b[1;32m   1341\u001b[0m                 \u001b[0;32mif\u001b[0m \u001b[0mlen\u001b[0m\u001b[0;34m(\u001b[0m\u001b[0mcommon_cols\u001b[0m\u001b[0;34m)\u001b[0m \u001b[0;34m==\u001b[0m \u001b[0;36m0\u001b[0m\u001b[0;34m:\u001b[0m\u001b[0;34m\u001b[0m\u001b[0;34m\u001b[0m\u001b[0m\n\u001b[0;32m-> 1342\u001b[0;31m                     raise MergeError(\n\u001b[0m\u001b[1;32m   1343\u001b[0m                         \u001b[0;34m\"No common columns to perform merge on. \"\u001b[0m\u001b[0;34m\u001b[0m\u001b[0;34m\u001b[0m\u001b[0m\n\u001b[1;32m   1344\u001b[0m                         \u001b[0;34mf\"Merge options: left_on={self.left_on}, \"\u001b[0m\u001b[0;34m\u001b[0m\u001b[0;34m\u001b[0m\u001b[0m\n",
      "\u001b[0;31mMergeError\u001b[0m: No common columns to perform merge on. Merge options: left_on=None, right_on=None, left_index=False, right_index=False"
     ]
    }
   ],
   "source": [
    "# read in the files.\n",
    "train_covariates = pd.read_csv('data/train_covariates.csv')\n",
    "train_features = pd.read_csv('data/train_features.csv')\n",
    "\n",
    "\n",
    "# find overlap in terms of participants between the train features and covariates dataframes\n",
    "\n",
    "train_df = pd.merge(train_covariates, train_features, how = 'inner') # inner checks overlap"
   ]
  },
  {
   "cell_type": "code",
   "execution_count": null,
   "metadata": {
    "colab": {},
    "colab_type": "code",
    "id": "_RSfxGWku6fU"
   },
   "outputs": [],
   "source": [
    "# read in the files.\n",
    "test_demographics = pd.read_csv('data/cpc_camcan_demographics_nordan.csv',\n",
    "                                sep= \",\",\n",
    "                                index_col = 0)\n",
    "test_features = pd.read_csv('data/cpc_camcan_features_nordan.csv',\n",
    "                            sep=\",\",\n",
    "                            index_col = 0)\n",
    "\n",
    "\n",
    "# find overlap in terms of participants between test_sample_features and \n",
    "# test_sample_demographics\n",
    "\n",
    "test_demographics_features = pd.concat([test_demographics, test_features],\n",
    "                                       axis = 1,\n",
    "                                       join = 'inner') # inner checks overlap\n",
    "                                                       # outer combines\n",
    "test_demographics_features['site_id'] = 'CAMCAN'"
   ]
  },
  {
   "cell_type": "markdown",
   "metadata": {
    "colab_type": "text",
    "id": "fUufLg4lQWdn"
   },
   "source": [
    "## **TASK 2:** Prepare the covariate + response files and specify model parameters."
   ]
  },
  {
   "cell_type": "markdown",
   "metadata": {
    "colab_type": "text",
    "id": "g1i1qp7AAh1Q"
   },
   "source": [
    "As mentioned in the introductory presentation those files need a specific format and the entries need to be seperated by spaces. Use whatever method you know to prepare those files based on the data provided in TASK 1. Save those files in .txt format in your drive. Also get rid of the column names and participant IDs.\n",
    "\n",
    "Given that we only have limited time in this practical we have to make a selection for the features based on your prior knowledge. With the information in mind that Nordan does not remember his way home, which subfield of the hyppocampus is probably a good target for the investigations?\n",
    "Select a maximum of four hyppocampal regions as features.\n",
    "\n",
    "NOTE: Normative modeling is a screening tool we just make this selection due to time constraints, in reality we build these models on millions of putative biomarkers that are not restricted to brain imaging.\n",
    "\n",
    "\n",
    "*Questions for your understanding:*\n",
    "\n",
    "2) What is the requirement for the features in terms of variable properties (e.g. dicotomous or continous)? \n",
    "\n",
    "3) What is the requirement for the covariates in terms of these properties? \n",
    "\n",
    "4) What are the requirements for both together? \n",
    "\n",
    "5) How does this depend on the algorithm used?"
   ]
  },
  {
   "cell_type": "code",
   "execution_count": null,
   "metadata": {
    "colab": {},
    "colab_type": "code",
    "id": "lzt6llxyRPyY"
   },
   "outputs": [],
   "source": [
    "# perpare covariate_normsample for sex and age\n",
    "covariate_train = train_demographics_features[['sex', 'age', 'site_id']] \n",
    "\n",
    "# perpare features_normsample for relevant hyppocampal subfields\n",
    "features_train = train_demographics_features[['left_CA1', \n",
    "                                                 'left_CA3',\n",
    "                                                 'right_CA1',\n",
    "                                                 'right_CA3']]\n",
    "# extract a list of unique site ids from the training set\n",
    "site_ids_tr =  sorted(set(train_demographics_features['site_id'].to_list()))"
   ]
  },
  {
   "cell_type": "code",
   "execution_count": null,
   "metadata": {
    "colab": {},
    "colab_type": "code",
    "id": "lzt6llxyRPyY"
   },
   "outputs": [],
   "source": [
    "# perpare covariate_normsample for sex and age\n",
    "covariate_test= test_demographics_features[['sex', 'age', 'site_id']]\n",
    "\n",
    "# perpare features_normsample for relevant hyppocampal subfields\n",
    "features_test = test_demographics_features[['left_CA1', \n",
    "                                                 'left_CA3',\n",
    "                                                 'right_CA1',\n",
    "                                                 'right_CA3']]\n",
    "# extract a list of unique site ids from the test set\n",
    "site_ids_te =  sorted(set(test_demographics_features['site_id'].to_list()))"
   ]
  },
  {
   "cell_type": "code",
   "execution_count": null,
   "metadata": {},
   "outputs": [],
   "source": [
    "# which warping function to use? We can set this to None in order to fit a vanilla Gaussian noise model.\n",
    "warp =  'WarpSinArcsinh'\n",
    "\n",
    "# limits for cubic B-spline basis\n",
    "xmin = -5\n",
    "xmax = 110\n",
    "\n",
    "# Do we want to force the model to be refit every time? \n",
    "# Set this to False if you want to transfer a pre-trained model to new sites not included in the training sample\n",
    "force_refit = True\n",
    "\n",
    "# Absolute Z treshold above which a sample is considered to be an outlier (without fitting any model). \n",
    "# This is an attempt at automated QC. It should be a really big threshold and ideally you would visually \n",
    "# inspect images that meet this criteria to confirm it is due to poor data quality i.e., motion or artifact.\n",
    "outlier_thresh = 7"
   ]
  },
  {
   "cell_type": "markdown",
   "metadata": {
    "colab_type": "text",
    "id": "irR4FAIvQ8ds"
   },
   "source": [
    "## **TASK 3:** Estimate normative model\n"
   ]
  },
  {
   "cell_type": "markdown",
   "metadata": {
    "colab_type": "text",
    "id": "XV61hQUoA1Kd"
   },
   "source": [
    "Once you have prepared and saved all the necessary files. Look at the pcntoolkit for running normative modeling. Select an appropritate method set up the toolkit and run your analyses using 2-fold cross validation in the normsample. \n",
    "\n",
    "HINT: You primarily need the estimate function. \n",
    "\n",
    "*Question for your understaning:*\n",
    "\n",
    "6) What does cvfolds mean and why do we use it? \n",
    "\n",
    "7) What is the output of the estimate function and what does it mean?"
   ]
  },
  {
   "cell_type": "code",
   "execution_count": null,
   "metadata": {},
   "outputs": [],
   "source": [
    "# where the raw data are stored\n",
    "#data_dir = '<path-to-your>/data'\n",
    "\n",
    "# where the analysis takes place\n",
    "root_dir = '/Users/saigerutherford/repos/CPC_ML_tutorial/tasks_key'\n",
    "out_dir = os.path.join(root_dir,'models','test')\n",
    "\n",
    "# create the output directory if it does not already exist\n",
    "os.makedirs(out_dir, exist_ok=True)"
   ]
  },
  {
   "cell_type": "code",
   "execution_count": null,
   "metadata": {},
   "outputs": [],
   "source": [
    "for roi_num, roi in enumerate(features_train):\n",
    "    print('Running ROI', roi_num, roi, ':')\n",
    "\n",
    "    # set output dir\n",
    "    roi_dir = os.path.join(out_dir, roi)\n",
    "    os.makedirs(os.path.join(roi_dir), exist_ok=True)\n",
    "    os.chdir(roi_dir)\n",
    "\n",
    "    # extract the response variables for training and test set\n",
    "    y_tr = features_train[roi].to_numpy()\n",
    "    y_te = features_test[roi].to_numpy()\n",
    "\n",
    "    # remove gross outliers and implausible values\n",
    "    yz_tr = (y_tr - np.mean(y_tr)) / np.std(y_tr)\n",
    "    yz_te = (y_te - np.mean(y_te)) / np.std(y_te)\n",
    "    nz_tr = np.bitwise_and(np.abs(yz_tr) < outlier_thresh, y_tr > 0)\n",
    "    nz_te = np.bitwise_and(np.abs(yz_te) < outlier_thresh, y_te > 0)\n",
    "    y_tr = y_tr[nz_tr]\n",
    "    y_te = y_te[nz_te]\n",
    "\n",
    "    # write out the response variables for training and test\n",
    "    resp_file_tr = os.path.join(roi_dir, 'resp_tr.txt')\n",
    "    resp_file_te = os.path.join(roi_dir, 'resp_te.txt')\n",
    "    np.savetxt(resp_file_tr, y_tr)\n",
    "    np.savetxt(resp_file_te, y_te)\n",
    "\n",
    "    # configure the design matrix\n",
    "    X_tr = create_design_matrix(features_train.loc[nz_tr],\n",
    "                                site_ids = covariate_train['site_id'].loc[nz_tr],\n",
    "                                basis = 'bspline',\n",
    "                                xmin = xmin,\n",
    "                                xmax = xmax)\n",
    "    X_te = create_design_matrix(features_test.loc[nz_te],\n",
    "                                site_ids = covariate_test['site_id'].loc[nz_te],\n",
    "                                all_sites=site_ids,\n",
    "                                basis = 'bspline',\n",
    "                                xmin = xmin,\n",
    "                                xmax = xmax)\n",
    "\n",
    "    # configure and save the covariates\n",
    "    cov_file_tr = os.path.join(roi_dir, 'cov_bspline_tr.txt')\n",
    "    cov_file_te = os.path.join(roi_dir, 'cov_bspline_te.txt')\n",
    "    np.savetxt(cov_file_tr, X_tr)\n",
    "    np.savetxt(cov_file_te, X_te)\n",
    "\n",
    "    if not force_refit and os.path.exists(os.path.join(roi_dir, 'Models', 'NM_0_0_estimate.pkl')):\n",
    "        print('Making predictions using a pre-existing model...')\n",
    "        suffix = 'predict'\n",
    "\n",
    "        # Make prdictsion with test data\n",
    "        predict(cov_file_te,\n",
    "                alg='blr',\n",
    "                respfile=resp_file_te,\n",
    "                model_path=os.path.join(idp_dir,'Models'), outputsuffix=suffix)\n",
    "    else:\n",
    "        print('Estimating the normative model...')\n",
    "        suffix = 'estimate'\n",
    "        estimate(cov_file_tr, resp_file_tr, testresp=resp_file_te,\n",
    "                 testcov=cov_file_te, alg='blr', optimizer = 'l-bfgs-b',\n",
    "                 savemodel=True, warp=warp, warp_reparam=True, outputsuffix=suffix)"
   ]
  },
  {
   "cell_type": "markdown",
   "metadata": {
    "colab_type": "text",
    "id": "wxeZlXshQ7eS"
   },
   "source": [
    "## **TASK 4:** Evaluate the model performance (compute error metrics)"
   ]
  },
  {
   "cell_type": "markdown",
   "metadata": {},
   "source": [
    "In this section we compute the following error metrics for all ROIs (all evaluated on the test set):\n",
    "\n",
    "- Negative log likelihood (NLL)\n",
    "\n",
    "- Explained variance (EV)\n",
    "\n",
    "- Mean standardized log loss (MSLL)\n",
    "\n",
    "- Bayesian information Criteria (BIC)\n",
    "\n",
    "- Skew and Kurtosis of the Z-distribution"
   ]
  },
  {
   "cell_type": "code",
   "execution_count": null,
   "metadata": {},
   "outputs": [],
   "source": [
    "# initialise dataframe we will use to store quantitative metrics\n",
    "blr_metrics = pd.DataFrame(columns = ['ROI', 'NLL', 'EV', 'MSLL', 'BIC','Skew','Kurtosis'])\n",
    "\n",
    "for roi_num, roi in enumerate(features_train):\n",
    "    roi_dir = os.path.join(out_dir, roi)\n",
    "\n",
    "    # load the predictions and true data. We use a custom function that ensures 2d arrays\n",
    "    # equivalent to: y = np.loadtxt(filename); y = y[:, np.newaxis]\n",
    "    yhat_te = load_2d(os.path.join(roi_dir, 'yhat_' + suffix + '.txt'))\n",
    "    s2_te = load_2d(os.path.join(roi_dir, 'ys2_' + suffix + '.txt'))\n",
    "    y_te = load_2d(os.path.join(roi_dir, 'resp_te.txt'))\n",
    "\n",
    "    with open(os.path.join(roi_dir,'Models', 'NM_0_0_estimate.pkl'), 'rb') as handle:\n",
    "        nm = pickle.load(handle)\n",
    "\n",
    "    # compute error metrics\n",
    "    if warp is None:\n",
    "        metrics = evaluate(y_te, yhat_te)\n",
    "\n",
    "        # compute MSLL manually as a sanity check\n",
    "        y_tr_mean = np.array( [[np.mean(y_tr)]] )\n",
    "        y_tr_var = np.array( [[np.var(y_tr)]] )\n",
    "        MSLL = compute_MSLL(y_te, yhat_te, s2_te, y_tr_mean, y_tr_var)\n",
    "    else:\n",
    "        warp_param = nm.blr.hyp[1:nm.blr.warp.get_n_params()+1]\n",
    "        W = nm.blr.warp\n",
    "\n",
    "        # warp predictions\n",
    "        med_te = W.warp_predictions(np.squeeze(yhat_te), np.squeeze(s2_te), warp_param)[0]\n",
    "        med_te = med_te[:, np.newaxis]\n",
    "\n",
    "        # evaluation metrics\n",
    "        metrics = evaluate(y_te, med_te)\n",
    "\n",
    "        # compute MSLL manually\n",
    "        y_te_w = W.f(y_te, warp_param)\n",
    "        y_tr_w = W.f(y_tr, warp_param)\n",
    "        y_tr_mean = np.array( [[np.mean(y_tr_w)]] )\n",
    "        y_tr_var = np.array( [[np.var(y_tr_w)]] )\n",
    "        MSLL = compute_MSLL(y_te_w, yhat_te, s2_te, y_tr_mean, y_tr_var)\n",
    "\n",
    "    Z = np.loadtxt(os.path.join(roi_dir, 'Z_' + suffix + '.txt'))\n",
    "    [skew, sdskew, kurtosis, sdkurtosis, semean, sesd] = calibration_descriptives(Z)\n",
    "\n",
    "    BIC = len(nm.blr.hyp) * np.log(y_tr.shape[0]) + 2 * nm.neg_log_lik\n",
    "\n",
    "    blr_metrics.loc[len(blr_metrics)] = [roi, nm.neg_log_lik, metrics['EXPV'][0],\n",
    "                                         MSLL[0], BIC, skew, kurtosis]\n",
    "\n",
    "display(blr_metrics)\n",
    "\n",
    "blr_metrics.to_pickle(os.path.join(out_dir,'blr_metrics.pkl'))\n",
    "blr_metrics.to_csv(os.path.join(out_dir,'blr_metrics.csv'))"
   ]
  },
  {
   "cell_type": "markdown",
   "metadata": {
    "colab_type": "text",
    "id": "wxeZlXshQ7eS"
   },
   "source": [
    "## **TASK 6:** Visualize the results"
   ]
  },
  {
   "cell_type": "code",
   "execution_count": null,
   "metadata": {},
   "outputs": [],
   "source": [
    "for roi_num, roi in enumerate(features_train):\n",
    "    print('Running ROI', roi_num, roi, ':')\n",
    "    roi_dir = os.path.join(out_dir, roi)\n",
    "    os.chdir(roi_dir)\n",
    "\n",
    "    # extract and save the response variables for the test set\n",
    "    y_te = features_test[roi].to_numpy()\n",
    "\n",
    "    # save the variables\n",
    "    resp_file_te = os.path.join(roi_dir, 'resp_te.txt')\n",
    "    np.savetxt(resp_file_te, y_te)\n",
    "\n",
    "    # configure and save the design matrix\n",
    "    cov_file_te = os.path.join(roi_dir, 'cov_bspline_te.txt')\n",
    "    X_te = create_design_matrix(features_test,\n",
    "                                site_ids = covariates_test['siteid'],\n",
    "                                all_sites = site_ids_tr,\n",
    "                                basis = 'bspline',\n",
    "                                xmin = xmin,\n",
    "                                xmax = xmax)\n",
    "    np.savetxt(cov_file_te, X_te)\n",
    "\n",
    "    # check whether all sites in the test set are represented in the training set\n",
    "    if all(elem in site_ids_tr for elem in site_ids_te):\n",
    "        print('All sites are present in the training data')\n",
    "\n",
    "        # just make predictions\n",
    "        yhat_te, s2_te, Z = predict(cov_file_te,\n",
    "                                    alg='blr',\n",
    "                                    respfile=resp_file_te,\n",
    "                                    model_path=os.path.join(roi_dir,'Models'))\n",
    "\n",
    "\n",
    "        # save the site ids for the test data\n",
    "        sitenum_file_te = os.path.join(idp_dir, 'sitenum_te.txt')\n",
    "        site_num_te = df_te['sitenum'].to_numpy(dtype=int)\n",
    "        np.savetxt(sitenum_file_te, site_num_te)\n",
    "\n",
    "        yhat_te, s2_te, Z = predict(cov_file_te,\n",
    "                                    alg = 'blr',\n",
    "                                    respfile = resp_file_te,\n",
    "                                    model_path = os.path.join(idp_dir,'Models'),\n",
    "                                    adaptrespfile = resp_file_ad,\n",
    "                                    adaptcovfile = cov_file_ad,\n",
    "                                    adaptvargroupfile = sitenum_file_ad,\n",
    "                                    testvargroupfile = sitenum_file_te)"
   ]
  },
  {
   "cell_type": "code",
   "execution_count": null,
   "metadata": {},
   "outputs": [],
   "source": [
    "# which sex do we want to plot?\n",
    "sex = 1 # 1 = male 0 = female\n",
    "if sex == 1:\n",
    "    clr = 'blue';\n",
    "else:\n",
    "    clr = 'red'\n",
    "\n",
    "# create dummy data for visualisation\n",
    "print('configuring dummy data ...')\n",
    "xx = np.arange(xmin, xmax, 0.5)\n",
    "X0_dummy = np.zeros((len(xx), 2))\n",
    "X0_dummy[:,0] = xx\n",
    "X0_dummy[:,1] = sex\n",
    "\n",
    "# create the design matrix\n",
    "X_dummy = create_design_matrix(X0_dummy, xmin=xmin, xmax=xmax, site_ids=None, all_sites=site_ids)\n",
    "\n",
    "# save the dummy covariates\n",
    "cov_file_dummy = os.path.join(out_dir,'cov_bspline_dummy_mean.txt')\n",
    "np.savetxt(cov_file_dummy, X_dummy)"
   ]
  },
  {
   "cell_type": "code",
   "execution_count": null,
   "metadata": {},
   "outputs": [],
   "source": [
    "sns.set(style='whitegrid')\n",
    "\n",
    "for roi_num, roi in enumerate(features_train):\n",
    "    print('Running ROI', roi_num, roi, ':')\n",
    "    roi_dir = os.path.join(out_dir, roi)\n",
    "    os.chdir(roi_dir)\n",
    "\n",
    "    # load the true data points\n",
    "    yhat_te = load_2d(os.path.join(roi_dir, 'yhat_estimate.txt'))\n",
    "    s2_te = load_2d(os.path.join(roi_dir, 'ys2_estimate.txt'))\n",
    "    y_te = load_2d(os.path.join(roi_dir, 'resp_te.txt'))\n",
    "\n",
    "    # set up the covariates for the dummy data\n",
    "    print('Making predictions with dummy covariates (for visualisation)')\n",
    "    yhat, s2 = predict(cov_file_dummy,\n",
    "                       alg = 'blr',\n",
    "                       respfile = None,\n",
    "                       model_path = os.path.join(roi_dir,'Models'),\n",
    "                       outputsuffix = '_dummy')\n",
    "\n",
    "    # load the normative model\n",
    "    with open(os.path.join(roi_dir,'Models', 'NM_0_0_estimate.pkl'), 'rb') as handle:\n",
    "        nm = pickle.load(handle)\n",
    "\n",
    "    # get the warp and warp parameters\n",
    "    W = nm.blr.warp\n",
    "    warp_param = nm.blr.hyp[1:nm.blr.warp.get_n_params()+1]\n",
    "\n",
    "    # first, we warp predictions for the true data and compute evaluation metrics\n",
    "    med_te = W.warp_predictions(np.squeeze(yhat_te), np.squeeze(s2_te), warp_param)[0]\n",
    "    med_te = med_te[:, np.newaxis]\n",
    "    print('metrics:', evaluate(y_te, med_te))\n",
    "\n",
    "    # then, we warp dummy predictions to create the plots\n",
    "    med, pr_int = W.warp_predictions(np.squeeze(yhat), np.squeeze(s2), warp_param)\n",
    "\n",
    "    # extract the different variance components to visualise\n",
    "    beta, junk1, junk2 = nm.blr._parse_hyps(nm.blr.hyp, X_dummy)\n",
    "    s2n = 1/beta # variation (aleatoric uncertainty)\n",
    "    s2s = s2-s2n # modelling uncertainty (epistemic uncertainty)\n",
    "\n",
    "    # plot the data points\n",
    "    y_te_rescaled_all = np.zeros_like(y_te)\n",
    "    for sid, site in enumerate(site_ids_te):\n",
    "        # plot the true test data points\n",
    "        if all(elem in site_ids_tr for elem in site_ids_te):\n",
    "            # all data in the test set are present in the training set\n",
    "\n",
    "            # first, we select the data points belonging to this particular site\n",
    "            idx = np.where(np.bitwise_and(X_te[:,2] == sex, X_te[:,sid+len(cols_cov)+1] !=0))[0]\n",
    "            if len(idx) == 0:\n",
    "                print('No data for site', sid, site, 'skipping...')\n",
    "                continue\n",
    "\n",
    "            # then directly adjust the data\n",
    "            idx_dummy = np.bitwise_and(X_dummy[:,1] > X_te[idx,1].min(), X_dummy[:,1] < X_te[idx,1].max())\n",
    "            y_te_rescaled = y_te[idx] - np.median(y_te[idx]) + np.median(med[idx_dummy])\n",
    "        else:\n",
    "            # we need to adjust the data based on the adaptation dataset\n",
    "\n",
    "            # first, select the data point belonging to this particular site\n",
    "            idx = np.where(np.bitwise_and(X_te[:,2] == sex, (covariates_test['site_id'] == site).to_numpy()))[0]\n",
    "\n",
    "            # load the adaptation data\n",
    "            y_ad = load_2d(os.path.join(roi_dir, 'resp_ad.txt'))\n",
    "            X_ad = load_2d(os.path.join(roi_dir, 'cov_bspline_ad.txt'))\n",
    "            idx_a = np.where(np.bitwise_and(X_ad[:,2] == sex, (df_ad['site_id'] == site).to_numpy()))[0]\n",
    "            if len(idx) < 2 or len(idx_a) < 2:\n",
    "                print('Insufficent data for site', sid, site, 'skipping...')\n",
    "                continue\n",
    "\n",
    "            # adjust and rescale the data\n",
    "            y_te_rescaled, s2_rescaled = nm.blr.predict_and_adjust(nm.blr.hyp,\n",
    "                                                                   X_ad[idx_a,:],\n",
    "                                                                   np.squeeze(y_ad[idx_a]),\n",
    "                                                                   Xs=None,\n",
    "                                                                   ys=np.squeeze(y_te[idx]))\n",
    "        # plot the (adjusted) data points\n",
    "        plt.scatter(X_te[idx,1], y_te_rescaled, s=4, color=clr, alpha = 0.1)\n",
    "\n",
    "    # plot the median of the dummy data\n",
    "    plt.plot(xx, med, clr)\n",
    "\n",
    "    # fill the gaps in between the centiles\n",
    "    junk, pr_int25 = W.warp_predictions(np.squeeze(yhat), np.squeeze(s2), warp_param, percentiles=[0.25,0.75])\n",
    "    junk, pr_int95 = W.warp_predictions(np.squeeze(yhat), np.squeeze(s2), warp_param, percentiles=[0.05,0.95])\n",
    "    junk, pr_int99 = W.warp_predictions(np.squeeze(yhat), np.squeeze(s2), warp_param, percentiles=[0.01,0.99])\n",
    "    plt.fill_between(xx, pr_int25[:,0], pr_int25[:,1], alpha = 0.1,color=clr)\n",
    "    plt.fill_between(xx, pr_int95[:,0], pr_int95[:,1], alpha = 0.1,color=clr)\n",
    "    plt.fill_between(xx, pr_int99[:,0], pr_int99[:,1], alpha = 0.1,color=clr)\n",
    "\n",
    "    # make the width of each centile proportional to the epistemic uncertainty\n",
    "    junk, pr_int25l = W.warp_predictions(np.squeeze(yhat), np.squeeze(s2-0.5*s2s), warp_param, percentiles=[0.25,0.75])\n",
    "    junk, pr_int95l = W.warp_predictions(np.squeeze(yhat), np.squeeze(s2-0.5*s2s), warp_param, percentiles=[0.05,0.95])\n",
    "    junk, pr_int99l = W.warp_predictions(np.squeeze(yhat), np.squeeze(s2-0.5*s2s), warp_param, percentiles=[0.01,0.99])\n",
    "    junk, pr_int25u = W.warp_predictions(np.squeeze(yhat), np.squeeze(s2+0.5*s2s), warp_param, percentiles=[0.25,0.75])\n",
    "    junk, pr_int95u = W.warp_predictions(np.squeeze(yhat), np.squeeze(s2+0.5*s2s), warp_param, percentiles=[0.05,0.95])\n",
    "    junk, pr_int99u = W.warp_predictions(np.squeeze(yhat), np.squeeze(s2+0.5*s2s), warp_param, percentiles=[0.01,0.99])\n",
    "    plt.fill_between(xx, pr_int25l[:,0], pr_int25u[:,0], alpha = 0.3,color=clr)\n",
    "    plt.fill_between(xx, pr_int95l[:,0], pr_int95u[:,0], alpha = 0.3,color=clr)\n",
    "    plt.fill_between(xx, pr_int99l[:,0], pr_int99u[:,0], alpha = 0.3,color=clr)\n",
    "    plt.fill_between(xx, pr_int25l[:,1], pr_int25u[:,1], alpha = 0.3,color=clr)\n",
    "    plt.fill_between(xx, pr_int95l[:,1], pr_int95u[:,1], alpha = 0.3,color=clr)\n",
    "    plt.fill_between(xx, pr_int99l[:,1], pr_int99u[:,1], alpha = 0.3,color=clr)\n",
    "\n",
    "    # plot actual centile lines\n",
    "    plt.plot(xx, pr_int25[:,0],color=clr, linewidth=0.5)\n",
    "    plt.plot(xx, pr_int25[:,1],color=clr, linewidth=0.5)\n",
    "    plt.plot(xx, pr_int95[:,0],color=clr, linewidth=0.5)\n",
    "    plt.plot(xx, pr_int95[:,1],color=clr, linewidth=0.5)\n",
    "    plt.plot(xx, pr_int99[:,0],color=clr, linewidth=0.5)\n",
    "    plt.plot(xx, pr_int99[:,1],color=clr, linewidth=0.5)\n",
    "\n",
    "    plt.xlabel('Age')\n",
    "    plt.ylabel(roi)\n",
    "    plt.title(roi)\n",
    "    plt.xlim((0,90))\n",
    "    plt.savefig(os.path.join(roi_dir, 'centiles_' + str(sex)),  bbox_inches='tight')\n",
    "    plt.show()"
   ]
  },
  {
   "cell_type": "code",
   "execution_count": null,
   "metadata": {},
   "outputs": [],
   "source": []
  },
  {
   "cell_type": "code",
   "execution_count": null,
   "metadata": {},
   "outputs": [],
   "source": []
  },
  {
   "cell_type": "code",
   "execution_count": null,
   "metadata": {
    "colab": {},
    "colab_type": "code",
    "id": "ii0H9GDwv-ha"
   },
   "outputs": [],
   "source": [
    "# confidence interval calculation at x_forward\n",
    "def confidence_interval(s2,x,z):\n",
    "  CI=np.zeros((len(x_forward),4))\n",
    "  for i,xdot in enumerate(x_forward):\n",
    "    ci_inx=np.isin(x,xdot)\n",
    "    S2=s2[ci_inx]\n",
    "    S_hat=np.mean(S2,axis=0)\n",
    "    n=S2.shape[0]\n",
    "    CI[i,:]=z*np.power(S_hat/n,.5)\n",
    "  return CI \n",
    "\n",
    "\n",
    "feature_names=['left_CA1','left_CA3','right_CA1','right_CA3']\n",
    "sex_covariates=[ 'Female','Male']\n",
    "# Creating plots for Female and male \n",
    "for i,sex in enumerate(sex_covariates):\n",
    "#forward model data\n",
    "    forward_yhat = pd.read_csv('yhat_forward.txt', sep = ' ', header=None)\n",
    "    yhat_forward=forward_yhat.values\n",
    "    yhat_forward=yhat_forward[7*i:7*(i+1)]\n",
    "    x_forward=[20, 30, 40, 50, 60, 70, 80]\n",
    "\n",
    "# Find the index of the data exclusively for one sex. Female:0, Male: 1   \n",
    "    inx=np.where(covariate_normsample.sex==i)[0]\n",
    "    x=covariate_normsample.values[inx,1]\n",
    "# actual data\n",
    "    y = pd.read_csv('features_normsample.txt', sep = ' ', header=None)\n",
    "    y=y.values[inx]\n",
    "# confidence Interval yhat+ z *(std/n^.5)-->.95 % CI:z=1.96, 99% CI:z=2.58 \n",
    "    s2= pd.read_csv('ys2_2fold.txt', sep = ' ', header=None)\n",
    "    s2=s2.values[inx]\n",
    "\n",
    "    CI_95=confidence_interval(s2,x,1.96)\n",
    "    CI_99=confidence_interval(s2,x,2.58)\n",
    "\n",
    "# Creat a trejactroy for each point     \n",
    "    for j,name in enumerate(feature_names):\n",
    "         fig=plt.figure()\n",
    "         ax=fig.add_subplot(111)\n",
    "         ax.plot(x_forward,yhat_forward[:,j], linewidth=4, label='Normative trejactory')\n",
    "\n",
    "\n",
    "         ax.plot(x_forward,CI_95[:,j]+yhat_forward[:,j], linewidth=2,linestyle='--',c='g', label='95% confidence interval')  \n",
    "         ax.plot(x_forward,-CI_95[:,j]+yhat_forward[:,j], linewidth=2,linestyle='--',c='g') \n",
    "\n",
    "         ax.plot(x_forward,CI_99[:,j]+yhat_forward[:,j], linewidth=1,linestyle='--',c='k', label='99% confidence interval')  \n",
    "         ax.plot(x_forward,-CI_99[:,j]+yhat_forward[:,j], linewidth=1,linestyle='--',c='k') \n",
    "\n",
    "         ax.scatter(x,y[:,j],c='r', label=name)\n",
    "         plt.legend(loc='upper left')\n",
    "         plt.title('Normative trejectory of' +name+' in '+sex+' cohort')\n",
    "         plt.show()\n",
    "         plt.close()"
   ]
  },
  {
   "cell_type": "code",
   "execution_count": null,
   "metadata": {
    "colab": {},
    "colab_type": "code",
    "id": "eVTYxKjvWBvm"
   },
   "outputs": [],
   "source": [
    "# read in Nordan's as well as the patient's demographics and features\n",
    "demographics_nordan = pd.read_csv('cpc_camcan_demographics_nordan.csv',\n",
    "                                       sep= \",\",\n",
    "                                       index_col = 0)\n",
    "features_nordan = pd.read_csv('cpc_camcan_features_nordan.csv',\n",
    "                            sep=\",\",\n",
    "                            index_col = 0)\n",
    "\n",
    "# create a covariate file for Nordan's as well as the patient's demograhpics\n",
    "covariate_nordan = demographics_nordan[['sex',\n",
    "                                        'age']] \n",
    "covariate_nordan.to_csv('covariate_nordan.txt',\n",
    "                        sep = ' ',\n",
    "                        header = False, \n",
    "                        index = False)\n",
    "\n",
    "# create the corresponding feature file\n",
    "features_nordan = features_nordan[['left_CA1', \n",
    "                                  'left_CA3',\n",
    "                                  'right_CA1',\n",
    "                                  'right_CA3']]\n",
    "\n",
    "features_nordan.to_csv('features_nordan.txt', \n",
    "                        sep = ' ', \n",
    "                        header = False, \n",
    "                        index = False)\n",
    "\n",
    "# apply normative modeling\n",
    "pcn.normative.estimate(covfile = 'covariate_normsample.txt', \n",
    "                       respfile = 'features_normsample.txt',\n",
    "                       testcov = 'covariate_nordan.txt',\n",
    "                       testresp = 'features_nordan.txt',\n",
    "                       cvfolds = None,\n",
    "                       alg = 'gpr',\n",
    "                       outputsuffix = '_nordan')"
   ]
  }
 ],
 "metadata": {
  "accelerator": "GPU",
  "colab": {
   "collapsed_sections": [],
   "name": "key_cpc_machinelearning.ipynb",
   "provenance": [],
   "toc_visible": true
  },
  "kernelspec": {
   "display_name": "Python 3 (ipykernel)",
   "language": "python",
   "name": "python3"
  },
  "language_info": {
   "codemirror_mode": {
    "name": "ipython",
    "version": 3
   },
   "file_extension": ".py",
   "mimetype": "text/x-python",
   "name": "python",
   "nbconvert_exporter": "python",
   "pygments_lexer": "ipython3",
   "version": "3.8.11"
  }
 },
 "nbformat": 4,
 "nbformat_minor": 4
}
