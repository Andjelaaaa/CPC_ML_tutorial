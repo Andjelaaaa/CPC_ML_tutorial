{
 "cells": [
  {
   "cell_type": "code",
   "execution_count": null,
   "metadata": {
    "colab": {},
    "colab_type": "code",
    "id": "yawDkTLoKYRu"
   },
   "outputs": [],
   "source": [
    "!pip install pcntoolkit"
   ]
  },
  {
   "cell_type": "markdown",
   "metadata": {
    "colab_type": "text",
    "id": "hC8rsih7PHa_"
   },
   "source": [
    "## CPC TUTORIAL ON NORMATIVE MODELING\n",
    "\n",
    "**Background Story**\n",
    "\n",
    "Morten and Ingrid are concerned about the health of their father, Nordan. He recently turned 65 years. A few months ago he could not find his way home anymore. Together, they visit a neurologist/psychiatrist to conduct a number of cognitive tests. However, those tests were inconclusive. While Nordan has a relatively low IQ it could not explain his trouble returning home.\n",
    "\n",
    "Recently, the family heard about a new screening technique called normative modeling with which one can place individuals in reference to a population norm on for instance measures such as brain volume. Nordan would like to undertake this procedure to better know what is going on and to potentially find targets for treatment. Therefore, the family booked an appointment with you, the normative modeling specialist. To find out what is going on you compare Nordan's hyppocampus to the norm and to a group of persons with Alzheimers disease, who have a similar IQ, age as well as the same sex as Nordan.\n",
    "\n",
    "_______________________________________________________________________________"
   ]
  },
  {
   "cell_type": "markdown",
   "metadata": {
    "colab_type": "text",
    "id": "kvSiRjysuGkV"
   },
   "source": [
    "**TASK 1:** You have four files. The features and demographics file for the normsample and two files of the same name for Nordan your test sample. As one of your coworkers has done the preporcessing and quality control there are more subjects in the demographics file than in the features file of the norm sample. Please select the overlap of participants between those two files. \n",
    "\n",
    "\n",
    "*Question for your understanding:*\n",
    "\n",
    "1) Why do we have to select the overlap between participants in terms of featrues and demographics?"
   ]
  },
  {
   "cell_type": "code",
   "execution_count": null,
   "metadata": {
    "colab": {
     "base_uri": "https://localhost:8080/",
     "height": 781
    },
    "colab_type": "code",
    "executionInfo": {
     "elapsed": 696,
     "status": "ok",
     "timestamp": 1598629528835,
     "user": {
      "displayName": "T Wolfers",
      "photoUrl": "https://lh3.googleusercontent.com/a-/AOh14GjGRiNljjQ4u3bQNE0ZTeVIC6BPjDYZhAFxFRg4LA=s64",
      "userId": "02174863466986735220"
     },
     "user_tz": -120
    },
    "id": "_RSfxGWku6fU",
    "outputId": "af8baab9-daf6-4941-b9f5-795c166bd6a9"
   },
   "outputs": [
    {
     "name": "stdout",
     "output_type": "stream",
     "text": [
      "             age sex_name  sex  IQ_random\n",
      "paricipants                              \n",
      "CC110033      24     MALE    1         73\n",
      "CC110037      18     MALE    1        103\n",
      "CC110045      24   FEMALE    2        124\n",
      "CC110056      22   FEMALE    2        124\n",
      "CC110062      20     MALE    1        126\n",
      "...          ...      ...  ...        ...\n",
      "CC722542      79     MALE    1        116\n",
      "CC722651      79   FEMALE    2        128\n",
      "CC722891      84   FEMALE    2        129\n",
      "CC723197      80   FEMALE    2         96\n",
      "CC723395      86   FEMALE    2        145\n",
      "\n",
      "[707 rows x 4 columns]\n",
      "              left_Hippocampal_tail  ...  right_Whole_hippocampus\n",
      "participants                         ...                         \n",
      "CC110033                 482.768229  ...              3531.764896\n",
      "CC110037                 595.269259  ...              3835.426137\n",
      "CC110045                 655.847194  ...              3681.494304\n",
      "CC110056                 561.345626  ...              3461.373764\n",
      "CC110062                 756.521166  ...              4782.407821\n",
      "...                             ...  ...                      ...\n",
      "CC722542                 467.896808  ...              3284.108783\n",
      "CC722651                 406.326167  ...              3210.272905\n",
      "CC722891                 393.430481  ...              2423.675065\n",
      "CC723197                 475.929914  ...              3043.146264\n",
      "CC723395                 444.301617  ...              2988.001288\n",
      "\n",
      "[651 rows x 26 columns]\n",
      "          age sex_name  sex  ...  right_fimbria  right_HATA  right_Whole_hippocampus\n",
      "CC110033   24     MALE    1  ...      87.127463   73.589184              3531.764896\n",
      "CC110037   18     MALE    1  ...      99.657823   60.920924              3835.426137\n",
      "CC110045   24   FEMALE    2  ...      69.436808   59.323542              3681.494304\n",
      "CC110056   22   FEMALE    2  ...      60.505521   51.726283              3461.373764\n",
      "CC110062   20     MALE    1  ...      92.215816   85.484454              4782.407821\n",
      "...       ...      ...  ...  ...            ...         ...                      ...\n",
      "CC722542   79     MALE    1  ...      46.144212   43.966509              3284.108783\n",
      "CC722651   79   FEMALE    2  ...      68.730322   59.699644              3210.272905\n",
      "CC722891   84   FEMALE    2  ...      27.913196   38.629828              2423.675065\n",
      "CC723197   80   FEMALE    2  ...      51.893458   65.474967              3043.146264\n",
      "CC723395   86   FEMALE    2  ...      68.335159   62.081225              2988.001288\n",
      "\n",
      "[650 rows x 30 columns]\n"
     ]
    }
   ],
   "source": [
    "import pandas as pd\n",
    "\n",
    "# read in the files.\n",
    "norm_demographics = pd.read_csv('cpc_camcan_demographics.csv',\n",
    "                                sep= \",\",\n",
    "                                index_col = 0)\n",
    "norm_features = pd.read_csv('cpc_camcan_features.csv',\n",
    "                            sep=\",\",\n",
    "                            index_col = 0)\n",
    "\n",
    "# check columns through print [there are other better options]\n",
    "print(norm_demographics)\n",
    "print(norm_features)\n",
    "\n",
    "# find overlap in terms of participants between norm_sample_features and \n",
    "# norm_sample_demographics\n",
    "\n",
    "norm_demographics_features = pd.concat([norm_demographics, norm_features],\n",
    "                                       axis = 1,\n",
    "                                       join = 'inner') # inner checks overlap\n",
    "                                                       # outer combines\n",
    "print(norm_demographics_features)\n",
    "\n",
    "\n"
   ]
  },
  {
   "cell_type": "markdown",
   "metadata": {
    "colab_type": "text",
    "id": "fUufLg4lQWdn"
   },
   "source": [
    "**TASK 2:** Prepare the covariate_normsample and testresponse_normsample file. As mentioned in the introductory presentation those files need a specific format and the entries need to be seperated by spaces. Use whatever method you know to prepare those files based on the data provided in TASK 1. Save those files in .txt format in your drive. Also get rid of the column names and participant IDs.\n",
    "\n",
    "Given that we only have limited time in this practical we have to make a selection for the features based on your prior knowledge. With the information in mind that Nordan does not remember his way home, which subfield of the hyppocampus is probably a good target for the investigations?\n",
    "Select a maximum of four hyppocampal regions as features.\n",
    "\n",
    "NOTE: Normative modeling is a screening tool we just make this selection due to time constraints, in reality we build these models on millions of putative biomarkers that are not restricted to brain imaging.\n",
    "\n",
    "\n",
    "*Qestions for your understanding:*\n",
    "\n",
    "2) What is the requirement for the features in terms of variable properties (e.g. dicotomous or continous)? 3) What is the requirement for the covariates in terms of these properties? 4) What are the requirements for both together? 5) How does this depent on the algorithm used?"
   ]
  },
  {
   "cell_type": "code",
   "execution_count": null,
   "metadata": {
    "colab": {},
    "colab_type": "code",
    "id": "lzt6llxyRPyY"
   },
   "outputs": [],
   "source": [
    "import pandas as pd\n",
    "\n",
    "# perpare covariate_normsample for sex and age\n",
    "covariate_normsample = norm_demographics_features[['sex',\n",
    "                                                   'age']] \n",
    "\n",
    "covariate_normsample.to_csv('covariate_normsample.txt',\n",
    "                            sep = ' ',\n",
    "                            header = False, \n",
    "                            index = False)\n",
    "\n",
    "# perpare features_normsample for relevant hyppocampal subfields\n",
    "features_normsample = norm_demographics_features[['left_CA1', \n",
    "                                                 'left_CA3',\n",
    "                                                 'right_CA1',\n",
    "                                                 'right_CA3']]\n",
    "\n",
    "features_normsample.to_csv('features_normsample.txt', \n",
    "                           sep = ' ', \n",
    "                           header = False, \n",
    "                           index = False)"
   ]
  },
  {
   "cell_type": "markdown",
   "metadata": {
    "colab_type": "text",
    "id": "irR4FAIvQ8ds"
   },
   "source": [
    "**TASK 3:** Once you have prepared and saved all the necessary files. Look at the pcntoolkit for running normative modeling. Select an appropritate method set up the toolkit and run your analyses using 2-fold cross validation in the normsample. Change the outputsuffix from estimate to '_2fold'. HINT: You primarily need the estimate function. SUGGESTION: While this process is running you can go to the next TASK 4, you will have no doubt when it is correctly running.\n",
    "\n",
    "*Question for your understaning:*\n",
    "\n",
    "6) What does cvfolds mean and why do we use it? 7) What is the output of the estimate function?\n"
   ]
  },
  {
   "cell_type": "code",
   "execution_count": null,
   "metadata": {
    "colab": {
     "base_uri": "https://localhost:8080/",
     "height": 903
    },
    "colab_type": "code",
    "executionInfo": {
     "elapsed": 24410,
     "status": "ok",
     "timestamp": 1598629667884,
     "user": {
      "displayName": "T Wolfers",
      "photoUrl": "https://lh3.googleusercontent.com/a-/AOh14GjGRiNljjQ4u3bQNE0ZTeVIC6BPjDYZhAFxFRg4LA=s64",
      "userId": "02174863466986735220"
     },
     "user_tz": -120
    },
    "id": "yRTusEg6SRNL",
    "outputId": "1133da5b-9358-4ddd-df9a-f93c4eff4401"
   },
   "outputs": [
    {
     "name": "stdout",
     "output_type": "stream",
     "text": [
      "Processing data in features_normsample.txt\n",
      "Estimating model  1 of 4\n",
      "Optimization terminated successfully.\n",
      "         Current function value: 415.774285\n",
      "         Iterations: 54\n",
      "         Function evaluations: 141\n",
      "         Gradient evaluations: 141\n",
      "Estimating model  2 of 4\n",
      "Optimization terminated successfully.\n",
      "         Current function value: 437.765686\n",
      "         Iterations: 21\n",
      "         Function evaluations: 43\n",
      "         Gradient evaluations: 43\n",
      "Estimating model  3 of 4\n",
      "Optimization terminated successfully.\n",
      "         Current function value: 412.429592\n",
      "         Iterations: 21\n",
      "         Function evaluations: 39\n",
      "         Gradient evaluations: 39\n",
      "Estimating model  4 of 4\n",
      "Optimization terminated successfully.\n",
      "         Current function value: 438.497028\n",
      "         Iterations: 22\n",
      "         Function evaluations: 40\n",
      "         Gradient evaluations: 40\n",
      "Estimating model  1 of 4\n",
      "Optimization terminated successfully.\n",
      "         Current function value: 440.899976\n",
      "         Iterations: 15\n",
      "         Function evaluations: 34\n",
      "         Gradient evaluations: 34\n",
      "Estimating model  2 of 4\n",
      "Optimization terminated successfully.\n",
      "         Current function value: 449.223022\n",
      "         Iterations: 17\n",
      "         Function evaluations: 40\n",
      "         Gradient evaluations: 40\n",
      "Estimating model  3 of 4\n",
      "Optimization terminated successfully.\n",
      "         Current function value: 440.987767\n",
      "         Iterations: 20\n",
      "         Function evaluations: 37\n",
      "         Gradient evaluations: 37\n",
      "Estimating model  4 of 4\n",
      "Optimization terminated successfully.\n",
      "         Current function value: 442.650569\n",
      "         Iterations: 13\n",
      "         Function evaluations: 24\n",
      "         Gradient evaluations: 24\n",
      "Evaluating the model ...\n",
      "Writing outputs ...\n"
     ]
    }
   ],
   "source": [
    "import pcntoolkit as pcn\n",
    "\n",
    "# run normative modeling using 2-fold cross-validation\n",
    "\n",
    "pcn.normative.estimate(covfile = 'covariate_normsample.txt', \n",
    "                       respfile = 'features_normsample.txt',\n",
    "                       cvfolds = 2,\n",
    "                       alg = 'gpr',\n",
    "                       outputsuffix = '_5fold')\n",
    "\n"
   ]
  },
  {
   "cell_type": "markdown",
   "metadata": {
    "colab_type": "text",
    "id": "Nonuk7d_SNM6"
   },
   "source": [
    "**TASK 4:** In order to visulize the normative trajectories you first need to run the forward model. To this end you need to set up an appropriate covariate_forwardmodel file that covers the age range appropriately for both sexes. Save this file as .txt . Then you can input the files you made in TASK 1 as well as the file you made now and run the forward model using the appropriate specifications.\n",
    "\n",
    "*Question for your understaning:*\n",
    "\n",
    "8) What is yhat and ys2? 9) Why does the output of the forward model does not inlcude the Z-scores?\n"
   ]
  },
  {
   "cell_type": "code",
   "execution_count": null,
   "metadata": {
    "colab": {
     "base_uri": "https://localhost:8080/",
     "height": 469
    },
    "colab_type": "code",
    "executionInfo": {
     "elapsed": 101819,
     "status": "ok",
     "timestamp": 1598629814684,
     "user": {
      "displayName": "T Wolfers",
      "photoUrl": "https://lh3.googleusercontent.com/a-/AOh14GjGRiNljjQ4u3bQNE0ZTeVIC6BPjDYZhAFxFRg4LA=s64",
      "userId": "02174863466986735220"
     },
     "user_tz": -120
    },
    "id": "22U-knkWSPsZ",
    "outputId": "75db4817-81d0-4c90-f52f-d75db382ce29"
   },
   "outputs": [
    {
     "name": "stdout",
     "output_type": "stream",
     "text": [
      "Processing data in features_normsample.txt\n",
      "Estimating model  1 of 4\n",
      "Optimization terminated successfully.\n",
      "         Current function value: 803.831447\n",
      "         Iterations: 34\n",
      "         Function evaluations: 84\n",
      "         Gradient evaluations: 84\n",
      "Estimating model  2 of 4\n",
      "Optimization terminated successfully.\n",
      "         Current function value: 853.732500\n",
      "         Iterations: 51\n",
      "         Function evaluations: 106\n",
      "         Gradient evaluations: 106\n",
      "Estimating model  3 of 4\n",
      "Optimization terminated successfully.\n",
      "         Current function value: 809.035696\n",
      "         Iterations: 29\n",
      "         Function evaluations: 78\n",
      "         Gradient evaluations: 78\n",
      "Estimating model  4 of 4\n",
      "Optimization terminated successfully.\n",
      "         Current function value: 860.288327\n",
      "         Iterations: 61\n",
      "         Function evaluations: 140\n",
      "         Gradient evaluations: 140\n",
      "Writing outputs ...\n"
     ]
    }
   ],
   "source": [
    "import pandas as pd \n",
    "import pcntoolkit as pcn\n",
    "\n",
    "# create covariate_forwardmodel.txt file\n",
    "covariate_forwardmodel = {'sex': [0, 0, 0, 0, 0, 0, 0,\n",
    "                                  1, 1, 1, 1, 1, 1, 1],\n",
    "                          'age': [20, 30, 40, 50, 60, 70, 80,\n",
    "                                  20, 30, 40, 50, 60, 70, 80]}\n",
    "covariate_forwardmodel = pd.DataFrame(data=covariate_forwardmodel)\n",
    "\n",
    "covariate_forwardmodel.to_csv('covariate_forwardmodel.txt', \n",
    "                           sep = ' ', \n",
    "                           header = False, \n",
    "                           index = False)\n",
    "\n",
    "# estimate forward model\n",
    "\n",
    "pcn.normative.estimate(covfile = 'covariate_normsample.txt', \n",
    "                       respfile = 'features_normsample.txt',\n",
    "                       testcov = 'covariate_forwardmodel.txt',\n",
    "                       cvfolds = None,\n",
    "                       alg = 'gpr',\n",
    "                       outputsuffix = '_forward')\n"
   ]
  },
  {
   "cell_type": "markdown",
   "metadata": {
    "colab_type": "text",
    "id": "AqQhxN9pEFGC"
   },
   "source": [
    "**TASK 5:** Implement a function that calculates percentage change. \n",
    "\n",
    "Percentage change = $\\frac{x1 - x2}{|x2|}*100$"
   ]
  },
  {
   "cell_type": "code",
   "execution_count": null,
   "metadata": {
    "colab": {},
    "colab_type": "code",
    "id": "0vIt9fd7EmJx"
   },
   "outputs": [],
   "source": [
    "# function that calculates percentage change\n",
    "def calculate_percentage_change(x1, x2):\n",
    "  percentage_change = ((x1 - x2) / abs(x2)) * 100\n",
    "  return percentage_change"
   ]
  },
  {
   "cell_type": "markdown",
   "metadata": {
    "colab_type": "text",
    "id": "1Mypo4xrT7ID"
   },
   "source": [
    "**TASK 6:** Plot the prercentage change in Yhat in reference to age 20. Do that for both sexes seperately.\n",
    "\n",
    "\n",
    "\n"
   ]
  },
  {
   "cell_type": "code",
   "execution_count": null,
   "metadata": {
    "colab": {
     "base_uri": "https://localhost:8080/",
     "height": 397
    },
    "colab_type": "code",
    "executionInfo": {
     "elapsed": 1445,
     "status": "ok",
     "timestamp": 1598629849919,
     "user": {
      "displayName": "T Wolfers",
      "photoUrl": "https://lh3.googleusercontent.com/a-/AOh14GjGRiNljjQ4u3bQNE0ZTeVIC6BPjDYZhAFxFRg4LA=s64",
      "userId": "02174863466986735220"
     },
     "user_tz": -120
    },
    "id": "1DoJid7R1DBX",
    "outputId": "848a7151-3727-487d-8c85-15035a06c415"
   },
   "outputs": [
    {
     "data": {
      "text/plain": [
       "(-20.0, 2.0)"
      ]
     },
     "execution_count": 11,
     "metadata": {
      "tags": []
     },
     "output_type": "execute_result"
    },
    {
     "data": {
      "image/png": "[encoded data removed]",
      "text/plain": [
       "<Figure size 432x288 with 2 Axes>"
      ]
     },
     "metadata": {
      "needs_background": "light",
      "tags": []
     },
     "output_type": "display_data"
    }
   ],
   "source": [
    "import pandas as pd\n",
    "import matplotlib.pyplot as plt\n",
    "\n",
    "forward_yhat = pd.read_csv('yhat_forward.txt', sep = ' ', header=None)\n",
    "\n",
    "# You can indicate here which hypocampal subfield you like to visualize\n",
    "hyppocampal_subfield = 0\n",
    "\n",
    "percentage_change_female = []\n",
    "percentage_change_male = []\n",
    "count = 0\n",
    "lengths = len(forward_yhat[hyppocampal_subfield])\n",
    "for entry in forward_yhat[hyppocampal_subfield]:\n",
    "  if count > 0 and count < 7:\n",
    "    loop_percentage_change_female = calculate_percentage_change(entry, \n",
    "                                                                forward_yhat.iloc[0,\n",
    "                                                                                  hyppocampal_subfield])\n",
    "    percentage_change_female.append(loop_percentage_change_female)\n",
    "  elif count > 7: \n",
    "    loop_percentage_change_male = calculate_percentage_change(entry,\n",
    "                                                              forward_yhat.iloc[9,\n",
    "                                                                                hyppocampal_subfield])\n",
    "    percentage_change_male.append(loop_percentage_change_male)\n",
    "  count = count + 1 \n",
    "\n",
    "names = ['30 compared to 20 years', \n",
    "         '40 compared to 20 years', \n",
    "         '50 compared to 20 years', \n",
    "         '60 compared to 20 years', \n",
    "         '70 compared to 20 years',\n",
    "         '80 compared to 20 years']\n",
    "\n",
    "# females\n",
    "plt.subplot(121)\n",
    "plt.bar(names, percentage_change_female)\n",
    "plt.xticks(rotation=90)\n",
    "plt.ylim(-20, 2)\n",
    "\n",
    "# males\n",
    "plt.subplot(122)\n",
    "plt.bar(names, percentage_change_male)\n",
    "plt.xticks(rotation=90)\n",
    "plt.ylim(-20, 2)\n"
   ]
  },
  {
   "cell_type": "markdown",
   "metadata": {
    "colab_type": "text",
    "id": "wxeZlXshQ7eS"
   },
   "source": [
    "**TASK 7:** Visualize the forward model of the normative model using yhat, ys2 and Z, similar to this figure. \n",
    "![1-s2.0-S245190221830329X-gr2.jpg](data:image/jpeg;base64,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)"
   ]
  },
  {
   "cell_type": "code",
   "execution_count": null,
   "metadata": {
    "colab": {},
    "colab_type": "code",
    "id": "bje0N9mQr_rT"
   },
   "outputs": [],
   "source": [
    "import numpy as np\n",
    "import matplotlib.pyplot as plt\n",
    "\n",
    "feature_names=['left_CA1','left_CA3','right_CA1','right_CA3']\n",
    "sex_covariates=[ 'Female','Male']\n",
    "# Creating plots for Female and male \n",
    "for i,sex in enumerate(sex_covariates):\n",
    "# Find the index of the data exclusively for one sex. Female:0, Male: 1   \n",
    "    inx=np.where(covariate_normsample.sex==i)[0]\n",
    "    x=covariate_normsample.values[inx,1]\n",
    "    # actual data\n",
    "    y = pd.read_csv('features_normsample.txt', sep = ' ', header=None)\n",
    "    y=y.values[inx]\n",
    "    #forward model data\n",
    "    forward_yhat = pd.read_csv('yhat_forward.txt', sep = ' ', header=None)\n",
    "    yhat_forward=forward_yhat.values\n",
    "    yhat_forward=yhat_forward[7*i:7*(i+1)]\n",
    "    x_forward=[20, 30, 40, 50, 60, 70, 80]\n",
    "# Creat a trejactroy for each feauter point     \n",
    "    for j,name in enumerate(feature_names):\n",
    "        fig=plt.figure()\n",
    "        ax=fig.add_subplot(111)\n",
    "        ax.plot(x_forward,yhat_forward[:,j], linewidth=4, label='Normative trajectory')  \n",
    "        ax.scatter(x,y[:,j],c='r', label=name)\n",
    "        plt.legend(loc='upper left')\n",
    "        plt.title('Normative trajectory of' +name+' in '+sex+' cohort')\n",
    "        plt.show()\n",
    "        plt.close()\n",
    "\n"
   ]
  },
  {
   "cell_type": "markdown",
   "metadata": {
    "colab_type": "text",
    "id": "yM4z1BtyWwiF"
   },
   "source": [
    "**TASK 8:** Apply the normative model to Nordan's data and the DEM patients."
   ]
  },
  {
   "cell_type": "code",
   "execution_count": null,
   "metadata": {
    "colab": {
     "base_uri": "https://localhost:8080/",
     "height": 486
    },
    "colab_type": "code",
    "executionInfo": {
     "elapsed": 101605,
     "status": "ok",
     "timestamp": 1598629969494,
     "user": {
      "displayName": "T Wolfers",
      "photoUrl": "https://lh3.googleusercontent.com/a-/AOh14GjGRiNljjQ4u3bQNE0ZTeVIC6BPjDYZhAFxFRg4LA=s64",
      "userId": "02174863466986735220"
     },
     "user_tz": -120
    },
    "id": "eVTYxKjvWBvm",
    "outputId": "12963e69-0c4d-4f25-8ec5-e1a4d826c1dc"
   },
   "outputs": [
    {
     "name": "stdout",
     "output_type": "stream",
     "text": [
      "Processing data in features_normsample.txt\n",
      "Estimating model  1 of 4\n",
      "Optimization terminated successfully.\n",
      "         Current function value: 803.831447\n",
      "         Iterations: 34\n",
      "         Function evaluations: 84\n",
      "         Gradient evaluations: 84\n",
      "Estimating model  2 of 4\n",
      "Optimization terminated successfully.\n",
      "         Current function value: 853.732500\n",
      "         Iterations: 51\n",
      "         Function evaluations: 106\n",
      "         Gradient evaluations: 106\n",
      "Estimating model  3 of 4\n",
      "Optimization terminated successfully.\n",
      "         Current function value: 809.035696\n",
      "         Iterations: 29\n",
      "         Function evaluations: 78\n",
      "         Gradient evaluations: 78\n",
      "Estimating model  4 of 4\n",
      "Optimization terminated successfully.\n",
      "         Current function value: 860.288327\n",
      "         Iterations: 61\n",
      "         Function evaluations: 140\n",
      "         Gradient evaluations: 140\n",
      "Evaluating the model ...\n",
      "Writing outputs ...\n"
     ]
    }
   ],
   "source": [
    "import pcntoolkit as pcn\n",
    "\n",
    "# read in Nordan's as well as the patient's demographics and features\n",
    "demographics_nordan = pd.read_csv('cpc_camcan_demographics_nordan.csv',\n",
    "                                       sep= \",\",\n",
    "                                       index_col = 0)\n",
    "features_nordan = pd.read_csv('cpc_camcan_features_nordan.csv',\n",
    "                            sep=\",\",\n",
    "                            index_col = 0)\n",
    "\n",
    "# create a covariate file for Nordan's as well as the patient's demograhpics\n",
    "covariate_nordan = demographics_nordan[['sex',\n",
    "                                        'age']] \n",
    "covariate_nordan.to_csv('covariate_nordan.txt',\n",
    "                        sep = ' ',\n",
    "                        header = False, \n",
    "                        index = False)\n",
    "\n",
    "# create the corresponding feature file\n",
    "features_nordan = features_nordan[['left_CA1', \n",
    "                                  'left_CA3',\n",
    "                                  'right_CA1',\n",
    "                                  'right_CA3']]\n",
    "\n",
    "features_nordan.to_csv('features_nordan.txt', \n",
    "                        sep = ' ', \n",
    "                        header = False, \n",
    "                        index = False)\n",
    "\n",
    "# apply normative modeling\n",
    "pcn.normative.estimate(covfile = 'covariate_normsample.txt', \n",
    "                       respfile = 'features_normsample.txt',\n",
    "                       testcov = 'covariate_nordan.txt',\n",
    "                       testresp = 'features_nordan.txt',\n",
    "                       cvfolds = None,\n",
    "                       alg = 'gpr',\n",
    "                       outputsuffix = '_nordan')\n",
    "\n"
   ]
  },
  {
   "cell_type": "markdown",
   "metadata": {
    "colab_type": "text",
    "id": "LFnHCy0XVVwl"
   },
   "source": [
    "**TASK 9:** Plot Nordan's deviations in reference to the estimated norm and put this into context with his cognitive performance. \n",
    "\n",
    "*Question for your understanding:*\n",
    "\n",
    "10) In which hyppocampal subfield(s) does Nordan deviate extremely? i) |Z| > 3.6 ii) |Z| > 1.96"
   ]
  },
  {
   "cell_type": "code",
   "execution_count": null,
   "metadata": {
    "colab": {},
    "colab_type": "code",
    "id": "o2Fztrp8XIrW"
   },
   "outputs": [],
   "source": [
    "import seaborn as sns\n",
    "\n",
    "#CODE HERE"
   ]
  }
 ],
 "metadata": {
  "colab": {
   "collapsed_sections": [],
   "name": "key_cpc_machinelearning.ipynb",
   "provenance": [
    {
     "file_id": "1p4LYYEPHv04V7nq_5GweiJImv7hdsGwN",
     "timestamp": 1598515686645
    }
   ]
  },
  "kernelspec": {
   "display_name": "Python 3",
   "language": "python",
   "name": "python3"
  },
  "language_info": {
   "codemirror_mode": {
    "name": "ipython",
    "version": 3
   },
   "file_extension": ".py",
   "mimetype": "text/x-python",
   "name": "python",
   "nbconvert_exporter": "python",
   "pygments_lexer": "ipython3",
   "version": "3.7.4"
  }
 },
 "nbformat": 4,
 "nbformat_minor": 1
}
