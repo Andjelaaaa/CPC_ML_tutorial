{
  "nbformat": 4,
  "nbformat_minor": 0,
  "metadata": {
    "colab": {
      "name": "instructions_cpc_machinelearning.ipynb",
      "provenance": [],
      "collapsed_sections": []
    },
    "kernelspec": {
      "name": "python3",
      "display_name": "Python 3"
    }
  },
  "cells": [
    {
      "cell_type": "code",
      "metadata": {
        "id": "yawDkTLoKYRu",
        "colab_type": "code",
        "colab": {}
      },
      "source": [
        "!pip install pcntoolkit"
      ],
      "execution_count": null,
      "outputs": []
    },
    {
      "cell_type": "code",
      "metadata": {
        "id": "x47nJ_wCoARM",
        "colab_type": "code",
        "colab": {}
      },
      "source": [
        "# Load all necessary python libraries\n",
        "import pandas as pd\n",
        "import pcntoolkit as pcn\n",
        "import matplotlib.pyplot as plt\n",
        "import seaborn as sns\n",
        "import statsmodels as stats"
      ],
      "execution_count": null,
      "outputs": []
    },
    {
      "cell_type": "markdown",
      "metadata": {
        "id": "hC8rsih7PHa_",
        "colab_type": "text"
      },
      "source": [
        "## Background Story\n",
        "\n",
        "Morten and Ingrid are concerned about the health of their father, Nordan. He recently turned 65 years. A few months ago his speech became a bit disorganized. Recently, he could not remember the name of his two grandchildren. Together, they visit a neurologist/psychiatrist to conduct a number of \tcognitive tests. However, those tests were inconclusive, while Nordan had a relatively low IQ of 74 points, it could not explain his problems.\n",
        "\n",
        "Recently, the family heard about a new screening technique called normative modeling with which one can place individuals in reference to a population norm on for instance measures such as brain volume. Nordan would like to undertake this procedure to better know what is going on and to potentially find targets for treatment. Therefore, the family booked an appointment with you, the normative modeling specialist. You conduct a brain scan of the hippocampus. \n",
        "\n",
        "_______________________________________________________________________________"
      ]
    },
    {
      "cell_type": "markdown",
      "metadata": {
        "id": "kvSiRjysuGkV",
        "colab_type": "text"
      },
      "source": [
        "**TASK 1:** You have four files. The feature and demographics file for the normsample and two files of the same name for Nordan your test sample. As one of your coworkers has done the preporcessing and quality control for the data for you, there are more subjects in the demographics file than in the feature file of the norm sample. Please select the overlap of participants between those two files. "
      ]
    },
    {
      "cell_type": "code",
      "metadata": {
        "colab_type": "code",
        "id": "_RSfxGWku6fU",
        "colab": {}
      },
      "source": [
        "!wget -nc https://raw.githubusercontent.com/saigerutherford/CPC_2020/master/data/cpc_camcan_demographics.csv"
      ],
      "execution_count": null,
      "outputs": []
    },
    {
      "cell_type": "code",
      "metadata": {
        "id": "gsCMWD7Upjga",
        "colab_type": "code",
        "colab": {}
      },
      "source": [
        "!wget -nc https://raw.githubusercontent.com/saigerutherford/CPC_2020/master/data/cpc_camcan_features.csv"
      ],
      "execution_count": null,
      "outputs": []
    },
    {
      "cell_type": "code",
      "metadata": {
        "id": "eqW2OYBJp0CG",
        "colab_type": "code",
        "colab": {}
      },
      "source": [
        "!wget -nc https://raw.githubusercontent.com/saigerutherford/CPC_2020/master/data/cpc_camcan_demographics_nordan.csv"
      ],
      "execution_count": null,
      "outputs": []
    },
    {
      "cell_type": "code",
      "metadata": {
        "id": "MD3kjbaxp9_V",
        "colab_type": "code",
        "colab": {}
      },
      "source": [
        "!wget -nc https://raw.githubusercontent.com/saigerutherford/CPC_2020/master/data/cpc_camcan_features_nordan.csv"
      ],
      "execution_count": null,
      "outputs": []
    },
    {
      "cell_type": "code",
      "metadata": {
        "id": "7cUgP1bBqF3f",
        "colab_type": "code",
        "colab": {}
      },
      "source": [
        "demo = pd.read_csv('cpc_camcan_demographics.csv')\n",
        "nordan_demo = pd.read_csv('cpc_camcan_demographics_nordan.csv')"
      ],
      "execution_count": 13,
      "outputs": []
    },
    {
      "cell_type": "code",
      "metadata": {
        "id": "6felbQ5_qOb_",
        "colab_type": "code",
        "colab": {}
      },
      "source": [
        "features = pd.read_csv('cpc_camcan_features.csv')\n",
        "nordan_features = pd.read_csv('cpc_camcan_features_nordan.csv')"
      ],
      "execution_count": 14,
      "outputs": []
    },
    {
      "cell_type": "code",
      "metadata": {
        "id": "v1aZ2BpfrYg5",
        "colab_type": "code",
        "colab": {
          "base_uri": "https://localhost:8080/",
          "height": 34
        },
        "outputId": "b5aadc28-e135-4777-cf3f-47716337cc7a"
      },
      "source": [
        "demo.columns"
      ],
      "execution_count": 15,
      "outputs": [
        {
          "output_type": "execute_result",
          "data": {
            "text/plain": [
              "Index(['paricipants', 'age', 'sex_name', 'sex', 'IQ_random'], dtype='object')"
            ]
          },
          "metadata": {
            "tags": []
          },
          "execution_count": 15
        }
      ]
    },
    {
      "cell_type": "code",
      "metadata": {
        "id": "r7ho-2tts3UB",
        "colab_type": "code",
        "colab": {
          "base_uri": "https://localhost:8080/",
          "height": 391
        },
        "outputId": "782be2f1-c8fc-41b2-f0de-1c930fefb9e2"
      },
      "source": [
        "plt.figure(figsize=(6,6))\n",
        "plt.hist(demo['age'],bins=15)\n",
        "plt.show"
      ],
      "execution_count": 20,
      "outputs": [
        {
          "output_type": "execute_result",
          "data": {
            "text/plain": [
              "<function matplotlib.pyplot.show>"
            ]
          },
          "metadata": {
            "tags": []
          },
          "execution_count": 20
        },
        {
          "output_type": "display_data",
          "data": {
            "image/png": "[encoded data removed]",
            "text/plain": [
              "<Figure size 432x432 with 1 Axes>"
            ]
          },
          "metadata": {
            "tags": [],
            "needs_background": "light"
          }
        }
      ]
    },
    {
      "cell_type": "code",
      "metadata": {
        "id": "35eYYXb0tOm2",
        "colab_type": "code",
        "colab": {
          "base_uri": "https://localhost:8080/",
          "height": 391
        },
        "outputId": "d85b3e08-6fea-482c-e6dc-5f2e09de07f2"
      },
      "source": [
        "plt.figure(figsize=(6,6))\n",
        "plt.hist(demo['IQ_random'],bins=15)\n",
        "plt.show"
      ],
      "execution_count": 22,
      "outputs": [
        {
          "output_type": "execute_result",
          "data": {
            "text/plain": [
              "<function matplotlib.pyplot.show>"
            ]
          },
          "metadata": {
            "tags": []
          },
          "execution_count": 22
        },
        {
          "output_type": "display_data",
          "data": {
            "image/png": "[encoded data removed]",
            "text/plain": [
              "<Figure size 432x432 with 1 Axes>"
            ]
          },
          "metadata": {
            "tags": [],
            "needs_background": "light"
          }
        }
      ]
    },
    {
      "cell_type": "code",
      "metadata": {
        "id": "AYaK-E52rNOj",
        "colab_type": "code",
        "colab": {
          "base_uri": "https://localhost:8080/",
          "height": 297
        },
        "outputId": "22a288a3-e40b-41bc-804b-a9277dc332b0"
      },
      "source": [
        "demo.describe()"
      ],
      "execution_count": 16,
      "outputs": [
        {
          "output_type": "execute_result",
          "data": {
            "text/html": [
              "<div>\n",
              "<style scoped>\n",
              "    .dataframe tbody tr th:only-of-type {\n",
              "        vertical-align: middle;\n",
              "    }\n",
              "\n",
              "    .dataframe tbody tr th {\n",
              "        vertical-align: top;\n",
              "    }\n",
              "\n",
              "    .dataframe thead th {\n",
              "        text-align: right;\n",
              "    }\n",
              "</style>\n",
              "<table border=\"1\" class=\"dataframe\">\n",
              "  <thead>\n",
              "    <tr style=\"text-align: right;\">\n",
              "      <th></th>\n",
              "      <th>age</th>\n",
              "      <th>sex</th>\n",
              "      <th>IQ_random</th>\n",
              "    </tr>\n",
              "  </thead>\n",
              "  <tbody>\n",
              "    <tr>\n",
              "      <th>count</th>\n",
              "      <td>707.000000</td>\n",
              "      <td>707.000000</td>\n",
              "      <td>707.000000</td>\n",
              "    </tr>\n",
              "    <tr>\n",
              "      <th>mean</th>\n",
              "      <td>54.595474</td>\n",
              "      <td>1.506365</td>\n",
              "      <td>111.980198</td>\n",
              "    </tr>\n",
              "    <tr>\n",
              "      <th>std</th>\n",
              "      <td>18.602686</td>\n",
              "      <td>0.500313</td>\n",
              "      <td>23.305026</td>\n",
              "    </tr>\n",
              "    <tr>\n",
              "      <th>min</th>\n",
              "      <td>18.000000</td>\n",
              "      <td>1.000000</td>\n",
              "      <td>70.000000</td>\n",
              "    </tr>\n",
              "    <tr>\n",
              "      <th>25%</th>\n",
              "      <td>39.000000</td>\n",
              "      <td>1.000000</td>\n",
              "      <td>92.000000</td>\n",
              "    </tr>\n",
              "    <tr>\n",
              "      <th>50%</th>\n",
              "      <td>55.000000</td>\n",
              "      <td>2.000000</td>\n",
              "      <td>113.000000</td>\n",
              "    </tr>\n",
              "    <tr>\n",
              "      <th>75%</th>\n",
              "      <td>71.000000</td>\n",
              "      <td>2.000000</td>\n",
              "      <td>132.500000</td>\n",
              "    </tr>\n",
              "    <tr>\n",
              "      <th>max</th>\n",
              "      <td>88.000000</td>\n",
              "      <td>2.000000</td>\n",
              "      <td>150.000000</td>\n",
              "    </tr>\n",
              "  </tbody>\n",
              "</table>\n",
              "</div>"
            ],
            "text/plain": [
              "              age         sex   IQ_random\n",
              "count  707.000000  707.000000  707.000000\n",
              "mean    54.595474    1.506365  111.980198\n",
              "std     18.602686    0.500313   23.305026\n",
              "min     18.000000    1.000000   70.000000\n",
              "25%     39.000000    1.000000   92.000000\n",
              "50%     55.000000    2.000000  113.000000\n",
              "75%     71.000000    2.000000  132.500000\n",
              "max     88.000000    2.000000  150.000000"
            ]
          },
          "metadata": {
            "tags": []
          },
          "execution_count": 16
        }
      ]
    },
    {
      "cell_type": "code",
      "metadata": {
        "id": "P8tw-xWhrbqf",
        "colab_type": "code",
        "colab": {
          "base_uri": "https://localhost:8080/",
          "height": 187
        },
        "outputId": "384888cb-0801-43af-93d3-6ff0229f30c0"
      },
      "source": [
        "features.columns"
      ],
      "execution_count": 11,
      "outputs": [
        {
          "output_type": "execute_result",
          "data": {
            "text/plain": [
              "Index(['participants', 'left_Hippocampal_tail', 'left_subiculum', 'left_CA1',\n",
              "       'left_hippocampal-fissure', 'left_presubiculum', 'left_parasubiculum',\n",
              "       'left_molecular_layer_HP', 'left_GC-ML-DG', 'left_CA3', 'left_CA4',\n",
              "       'left_fimbria', 'left_HATA', 'left_Whole_hippocampus',\n",
              "       'right_Hippocampal_tail', 'right_subiculum', 'right_CA1',\n",
              "       'right_hippocampal-fissure', 'right_presubiculum',\n",
              "       'right_parasubiculum', 'right_molecular_layer_HP', 'right_GC-ML-DG',\n",
              "       'right_CA3', 'right_CA4', 'right_fimbria', 'right_HATA',\n",
              "       'right_Whole_hippocampus'],\n",
              "      dtype='object')"
            ]
          },
          "metadata": {
            "tags": []
          },
          "execution_count": 11
        }
      ]
    },
    {
      "cell_type": "code",
      "metadata": {
        "id": "YdTaVSd9rRq3",
        "colab_type": "code",
        "colab": {
          "base_uri": "https://localhost:8080/",
          "height": 334
        },
        "outputId": "4c173718-f420-431f-81d7-0607ff9edd2a"
      },
      "source": [
        "features.describe()"
      ],
      "execution_count": 9,
      "outputs": [
        {
          "output_type": "execute_result",
          "data": {
            "text/html": [
              "<div>\n",
              "<style scoped>\n",
              "    .dataframe tbody tr th:only-of-type {\n",
              "        vertical-align: middle;\n",
              "    }\n",
              "\n",
              "    .dataframe tbody tr th {\n",
              "        vertical-align: top;\n",
              "    }\n",
              "\n",
              "    .dataframe thead th {\n",
              "        text-align: right;\n",
              "    }\n",
              "</style>\n",
              "<table border=\"1\" class=\"dataframe\">\n",
              "  <thead>\n",
              "    <tr style=\"text-align: right;\">\n",
              "      <th></th>\n",
              "      <th>left_Hippocampal_tail</th>\n",
              "      <th>left_subiculum</th>\n",
              "      <th>left_CA1</th>\n",
              "      <th>left_hippocampal-fissure</th>\n",
              "      <th>left_presubiculum</th>\n",
              "      <th>left_parasubiculum</th>\n",
              "      <th>left_molecular_layer_HP</th>\n",
              "      <th>left_GC-ML-DG</th>\n",
              "      <th>left_CA3</th>\n",
              "      <th>left_CA4</th>\n",
              "      <th>left_fimbria</th>\n",
              "      <th>left_HATA</th>\n",
              "      <th>left_Whole_hippocampus</th>\n",
              "      <th>right_Hippocampal_tail</th>\n",
              "      <th>right_subiculum</th>\n",
              "      <th>right_CA1</th>\n",
              "      <th>right_hippocampal-fissure</th>\n",
              "      <th>right_presubiculum</th>\n",
              "      <th>right_parasubiculum</th>\n",
              "      <th>right_molecular_layer_HP</th>\n",
              "      <th>right_GC-ML-DG</th>\n",
              "      <th>right_CA3</th>\n",
              "      <th>right_CA4</th>\n",
              "      <th>right_fimbria</th>\n",
              "      <th>right_HATA</th>\n",
              "      <th>right_Whole_hippocampus</th>\n",
              "    </tr>\n",
              "  </thead>\n",
              "  <tbody>\n",
              "    <tr>\n",
              "      <th>count</th>\n",
              "      <td>651.000000</td>\n",
              "      <td>651.000000</td>\n",
              "      <td>651.000000</td>\n",
              "      <td>651.000000</td>\n",
              "      <td>651.000000</td>\n",
              "      <td>651.000000</td>\n",
              "      <td>651.000000</td>\n",
              "      <td>651.000000</td>\n",
              "      <td>651.000000</td>\n",
              "      <td>651.000000</td>\n",
              "      <td>651.000000</td>\n",
              "      <td>651.000000</td>\n",
              "      <td>651.000000</td>\n",
              "      <td>651.000000</td>\n",
              "      <td>651.000000</td>\n",
              "      <td>651.000000</td>\n",
              "      <td>651.000000</td>\n",
              "      <td>651.000000</td>\n",
              "      <td>651.000000</td>\n",
              "      <td>651.000000</td>\n",
              "      <td>651.000000</td>\n",
              "      <td>651.000000</td>\n",
              "      <td>651.000000</td>\n",
              "      <td>651.000000</td>\n",
              "      <td>651.000000</td>\n",
              "      <td>651.000000</td>\n",
              "    </tr>\n",
              "    <tr>\n",
              "      <th>mean</th>\n",
              "      <td>502.277252</td>\n",
              "      <td>432.425231</td>\n",
              "      <td>621.910828</td>\n",
              "      <td>152.338600</td>\n",
              "      <td>298.826492</td>\n",
              "      <td>59.730948</td>\n",
              "      <td>564.243836</td>\n",
              "      <td>299.076785</td>\n",
              "      <td>215.588247</td>\n",
              "      <td>257.426315</td>\n",
              "      <td>88.465287</td>\n",
              "      <td>64.388535</td>\n",
              "      <td>3404.359756</td>\n",
              "      <td>553.113700</td>\n",
              "      <td>424.440076</td>\n",
              "      <td>653.238989</td>\n",
              "      <td>155.580676</td>\n",
              "      <td>288.393305</td>\n",
              "      <td>57.044034</td>\n",
              "      <td>576.830721</td>\n",
              "      <td>305.040063</td>\n",
              "      <td>229.539673</td>\n",
              "      <td>264.144928</td>\n",
              "      <td>73.589519</td>\n",
              "      <td>60.312769</td>\n",
              "      <td>3485.687776</td>\n",
              "    </tr>\n",
              "    <tr>\n",
              "      <th>std</th>\n",
              "      <td>93.507300</td>\n",
              "      <td>66.556883</td>\n",
              "      <td>95.601905</td>\n",
              "      <td>30.226531</td>\n",
              "      <td>48.828304</td>\n",
              "      <td>12.580865</td>\n",
              "      <td>84.927281</td>\n",
              "      <td>46.437514</td>\n",
              "      <td>37.053571</td>\n",
              "      <td>38.969917</td>\n",
              "      <td>24.214625</td>\n",
              "      <td>12.217508</td>\n",
              "      <td>498.431472</td>\n",
              "      <td>96.376912</td>\n",
              "      <td>61.729986</td>\n",
              "      <td>95.378187</td>\n",
              "      <td>33.546995</td>\n",
              "      <td>46.070202</td>\n",
              "      <td>11.264046</td>\n",
              "      <td>82.417205</td>\n",
              "      <td>44.970861</td>\n",
              "      <td>36.669340</td>\n",
              "      <td>37.732467</td>\n",
              "      <td>23.003738</td>\n",
              "      <td>10.090635</td>\n",
              "      <td>479.476766</td>\n",
              "    </tr>\n",
              "    <tr>\n",
              "      <th>min</th>\n",
              "      <td>285.214328</td>\n",
              "      <td>221.912109</td>\n",
              "      <td>384.131534</td>\n",
              "      <td>84.981375</td>\n",
              "      <td>153.973136</td>\n",
              "      <td>28.720430</td>\n",
              "      <td>312.162318</td>\n",
              "      <td>159.423991</td>\n",
              "      <td>99.665480</td>\n",
              "      <td>131.771325</td>\n",
              "      <td>7.951922</td>\n",
              "      <td>30.124935</td>\n",
              "      <td>2020.186431</td>\n",
              "      <td>322.444653</td>\n",
              "      <td>247.709136</td>\n",
              "      <td>425.265302</td>\n",
              "      <td>89.314336</td>\n",
              "      <td>154.440860</td>\n",
              "      <td>24.614143</td>\n",
              "      <td>355.028716</td>\n",
              "      <td>193.694755</td>\n",
              "      <td>141.440313</td>\n",
              "      <td>173.509703</td>\n",
              "      <td>8.642510</td>\n",
              "      <td>28.999134</td>\n",
              "      <td>2178.259602</td>\n",
              "    </tr>\n",
              "    <tr>\n",
              "      <th>25%</th>\n",
              "      <td>440.888820</td>\n",
              "      <td>392.810811</td>\n",
              "      <td>556.343306</td>\n",
              "      <td>130.623112</td>\n",
              "      <td>268.761238</td>\n",
              "      <td>50.841179</td>\n",
              "      <td>506.050551</td>\n",
              "      <td>268.777567</td>\n",
              "      <td>191.542229</td>\n",
              "      <td>233.231070</td>\n",
              "      <td>74.371888</td>\n",
              "      <td>56.611388</td>\n",
              "      <td>3092.439083</td>\n",
              "      <td>489.130268</td>\n",
              "      <td>385.136735</td>\n",
              "      <td>589.542233</td>\n",
              "      <td>131.395737</td>\n",
              "      <td>259.329588</td>\n",
              "      <td>49.673672</td>\n",
              "      <td>525.141444</td>\n",
              "      <td>277.022286</td>\n",
              "      <td>205.622777</td>\n",
              "      <td>240.960352</td>\n",
              "      <td>59.696945</td>\n",
              "      <td>53.950610</td>\n",
              "      <td>3186.892075</td>\n",
              "    </tr>\n",
              "    <tr>\n",
              "      <th>50%</th>\n",
              "      <td>493.101612</td>\n",
              "      <td>430.893974</td>\n",
              "      <td>619.752093</td>\n",
              "      <td>148.657028</td>\n",
              "      <td>300.881793</td>\n",
              "      <td>59.224334</td>\n",
              "      <td>565.424031</td>\n",
              "      <td>297.274436</td>\n",
              "      <td>212.122969</td>\n",
              "      <td>254.582181</td>\n",
              "      <td>89.525439</td>\n",
              "      <td>64.196277</td>\n",
              "      <td>3421.053035</td>\n",
              "      <td>542.141029</td>\n",
              "      <td>421.826796</td>\n",
              "      <td>647.876490</td>\n",
              "      <td>151.152773</td>\n",
              "      <td>287.793717</td>\n",
              "      <td>56.437363</td>\n",
              "      <td>573.487621</td>\n",
              "      <td>304.791997</td>\n",
              "      <td>228.231805</td>\n",
              "      <td>263.097624</td>\n",
              "      <td>73.593598</td>\n",
              "      <td>60.179301</td>\n",
              "      <td>3454.117625</td>\n",
              "    </tr>\n",
              "    <tr>\n",
              "      <th>75%</th>\n",
              "      <td>554.331713</td>\n",
              "      <td>473.663048</td>\n",
              "      <td>677.321831</td>\n",
              "      <td>169.124380</td>\n",
              "      <td>329.716408</td>\n",
              "      <td>67.839621</td>\n",
              "      <td>616.111150</td>\n",
              "      <td>326.964724</td>\n",
              "      <td>236.836291</td>\n",
              "      <td>281.160726</td>\n",
              "      <td>103.389986</td>\n",
              "      <td>71.265011</td>\n",
              "      <td>3702.435725</td>\n",
              "      <td>610.594812</td>\n",
              "      <td>459.109002</td>\n",
              "      <td>712.488079</td>\n",
              "      <td>175.330252</td>\n",
              "      <td>314.157212</td>\n",
              "      <td>63.767960</td>\n",
              "      <td>628.188247</td>\n",
              "      <td>331.212284</td>\n",
              "      <td>250.833280</td>\n",
              "      <td>286.248451</td>\n",
              "      <td>88.187133</td>\n",
              "      <td>66.091885</td>\n",
              "      <td>3783.090597</td>\n",
              "    </tr>\n",
              "    <tr>\n",
              "      <th>max</th>\n",
              "      <td>1554.463301</td>\n",
              "      <td>1076.422978</td>\n",
              "      <td>1704.756416</td>\n",
              "      <td>413.115461</td>\n",
              "      <td>691.382539</td>\n",
              "      <td>114.925973</td>\n",
              "      <td>1392.890663</td>\n",
              "      <td>735.478590</td>\n",
              "      <td>524.444241</td>\n",
              "      <td>632.443843</td>\n",
              "      <td>197.307186</td>\n",
              "      <td>114.130946</td>\n",
              "      <td>8738.646677</td>\n",
              "      <td>1310.109005</td>\n",
              "      <td>1046.296874</td>\n",
              "      <td>1591.478773</td>\n",
              "      <td>401.136974</td>\n",
              "      <td>726.340082</td>\n",
              "      <td>107.190148</td>\n",
              "      <td>1376.982256</td>\n",
              "      <td>746.277370</td>\n",
              "      <td>558.827465</td>\n",
              "      <td>641.978384</td>\n",
              "      <td>228.291674</td>\n",
              "      <td>129.979982</td>\n",
              "      <td>8463.752014</td>\n",
              "    </tr>\n",
              "  </tbody>\n",
              "</table>\n",
              "</div>"
            ],
            "text/plain": [
              "       left_Hippocampal_tail  ...  right_Whole_hippocampus\n",
              "count             651.000000  ...               651.000000\n",
              "mean              502.277252  ...              3485.687776\n",
              "std                93.507300  ...               479.476766\n",
              "min               285.214328  ...              2178.259602\n",
              "25%               440.888820  ...              3186.892075\n",
              "50%               493.101612  ...              3454.117625\n",
              "75%               554.331713  ...              3783.090597\n",
              "max              1554.463301  ...              8463.752014\n",
              "\n",
              "[8 rows x 26 columns]"
            ]
          },
          "metadata": {
            "tags": []
          },
          "execution_count": 9
        }
      ]
    },
    {
      "cell_type": "code",
      "metadata": {
        "id": "Waw3AbIR1maQ",
        "colab_type": "code",
        "colab": {}
      },
      "source": [
        "demo_features = pd.merge(demo, features, on='participants', how='inner')"
      ],
      "execution_count": 27,
      "outputs": []
    },
    {
      "cell_type": "code",
      "metadata": {
        "id": "EoPm8kE_2G5m",
        "colab_type": "code",
        "colab": {}
      },
      "source": [
        "demo.rename(columns={\"paricipants\": \"participants\"}, inplace=True)"
      ],
      "execution_count": 26,
      "outputs": []
    },
    {
      "cell_type": "code",
      "metadata": {
        "id": "dYyFVrcn2hWq",
        "colab_type": "code",
        "colab": {
          "base_uri": "https://localhost:8080/",
          "height": 34
        },
        "outputId": "fd43f2e9-8f96-48ce-bc3e-2eab02a78163"
      },
      "source": [
        "len(demo_features)"
      ],
      "execution_count": 28,
      "outputs": [
        {
          "output_type": "execute_result",
          "data": {
            "text/plain": [
              "650"
            ]
          },
          "metadata": {
            "tags": []
          },
          "execution_count": 28
        }
      ]
    },
    {
      "cell_type": "code",
      "metadata": {
        "id": "wjuX9iwB5sv1",
        "colab_type": "code",
        "colab": {}
      },
      "source": [
        "demo_train = demo_features.iloc[:, 0:4]\n",
        "#features_train = demo_features.iloc[:,5:] #selects all the hippocampus features\n",
        "features_train = demo_features[['left_Whole_hippocampus', 'right_Whole_hippocampus']] # select only a few features"
      ],
      "execution_count": 32,
      "outputs": []
    },
    {
      "cell_type": "markdown",
      "metadata": {
        "id": "fUufLg4lQWdn",
        "colab_type": "text"
      },
      "source": [
        "**TASK 2:** Prepare the covariate_normsample and testresponse_normsample file. As mentioned in the introductory presentation those files need a specific format and the entries need to be seperated by spaces. Use whatever method you know to prepare those files based on the data provided in TASK 1. Save those files in .txt format and as mentioned earlier seperate each entry by a space. Also get rid of the column names and subject IDs."
      ]
    },
    {
      "cell_type": "code",
      "metadata": {
        "id": "lzt6llxyRPyY",
        "colab_type": "code",
        "colab": {}
      },
      "source": [
        "demo_train.to_csv(r'demo_train.txt', header=None, index=None, sep=' ', mode='a')\n",
        "features_train.to_csv(r'features_train.txt', header=None, index=None, sep=' ', mode='a')\n",
        "nordan_demo.to_csv(r'demo_test.txt', header=None, index=None, sep=' ', mode='a')\n",
        "nordan_features.to_csv(r'features_test.txt', header=None, index=None, sep=' ', mode='a')"
      ],
      "execution_count": 34,
      "outputs": []
    },
    {
      "cell_type": "markdown",
      "metadata": {
        "id": "irR4FAIvQ8ds",
        "colab_type": "text"
      },
      "source": [
        "**TASK 3:** Once you have prepared all the necessary files. Look at the pcntoolkit for running normative modeling. Select an appropriate method, set up the toolkit, and run your analyses using 10-fold cross validation in the normsample only. HINT: You primarily need the estimate function and it might be useful to select only two regions of the hippocampus as the computations might take too long otherwise. Base your choice on your prior knowlege of the hippocampus and its involvement in memory processes."
      ]
    },
    {
      "cell_type": "code",
      "metadata": {
        "id": "yRTusEg6SRNL",
        "colab_type": "code",
        "colab": {}
      },
      "source": [
        "pcntoolkit.normative_parallel.execute_nm(processing_dir, \n",
        "                                     python_path, \n",
        "                                     normative_path, \n",
        "                                     job_name, \n",
        "                                     covfile_path, \n",
        "                                     respfile_path, \n",
        "                                     batch_size, \n",
        "                                     memory, \n",
        "                                     duration,\n",
        "                                     testcovfile_path = testcovfile_path,\n",
        "                                     testrespfile_path = testrespfile_path\n",
        "                                     )"
      ],
      "execution_count": null,
      "outputs": []
    },
    {
      "cell_type": "markdown",
      "metadata": {
        "id": "Nonuk7d_SNM6",
        "colab_type": "text"
      },
      "source": [
        "**TASK 4:** In order to visualize the normative trajectories, you first need to run the forward model. To this end you need to set up an appropriate covariate_forwardmodel file. Then you can input the files you made in TASK 1 as well as the file you made now and run the forward model using the appropriate specifications."
      ]
    },
    {
      "cell_type": "code",
      "metadata": {
        "id": "22U-knkWSPsZ",
        "colab_type": "code",
        "colab": {}
      },
      "source": [
        "#CODE HERE"
      ],
      "execution_count": null,
      "outputs": []
    },
    {
      "cell_type": "markdown",
      "metadata": {
        "id": "1Mypo4xrT7ID",
        "colab_type": "text"
      },
      "source": [
        "**TASK 5:** Visualize the forward model by plotting $\\hat{Y}$ of all hippocampal structures as a function of age. Use the 95% confidence interval to plot Ystd around it."
      ]
    },
    {
      "cell_type": "code",
      "metadata": {
        "id": "WbspdnaWW3d-",
        "colab_type": "code",
        "colab": {}
      },
      "source": [
        "#CODE HERE"
      ],
      "execution_count": null,
      "outputs": []
    },
    {
      "cell_type": "markdown",
      "metadata": {
        "colab_type": "text",
        "id": "yM4z1BtyWwiF"
      },
      "source": [
        "**TASK 6:** Apply the normative model to Nordan's brain."
      ]
    },
    {
      "cell_type": "code",
      "metadata": {
        "id": "eVTYxKjvWBvm",
        "colab_type": "code",
        "colab": {}
      },
      "source": [
        "#CODE HERE"
      ],
      "execution_count": null,
      "outputs": []
    },
    {
      "cell_type": "markdown",
      "metadata": {
        "id": "LFnHCy0XVVwl",
        "colab_type": "text"
      },
      "source": [
        "**TASK 7:** Plot Nordan's brain in reference to the estimated and visualized models for the hippocampal structure(s) as well as his cognitive scores."
      ]
    },
    {
      "cell_type": "code",
      "metadata": {
        "id": "o2Fztrp8XIrW",
        "colab_type": "code",
        "colab": {}
      },
      "source": [
        "#CODE HERE"
      ],
      "execution_count": null,
      "outputs": []
    },
    {
      "cell_type": "markdown",
      "metadata": {
        "id": "c7hd0-5CXolD",
        "colab_type": "text"
      },
      "source": [
        "**EXTRA TASK 8:** Sort all participants on their cognitive test performance and compare the number of extreme positive and extreme negative deviations per participants in the best and worse 10% statistically, based on a threshold for extreme deviations of |Z|= 1.96."
      ]
    },
    {
      "cell_type": "code",
      "metadata": {
        "id": "11e1Fzf8X3ja",
        "colab_type": "code",
        "colab": {}
      },
      "source": [
        "#CODE HERE"
      ],
      "execution_count": null,
      "outputs": []
    },
    {
      "cell_type": "markdown",
      "metadata": {
        "id": "xZhRn4Q4X_-A",
        "colab_type": "text"
      },
      "source": [
        "**EXTRA TASK 9:** Plot how the number and the statistical comparison of extreme positive and extreme negative deviations in both groups changes as a function of adjusting the threshold dynamically from |Z|= 1.96. to |Z| = 10."
      ]
    },
    {
      "cell_type": "code",
      "metadata": {
        "colab_type": "code",
        "id": "DEh8_3cJYsbw",
        "colab": {}
      },
      "source": [
        "#CODE HERE"
      ],
      "execution_count": null,
      "outputs": []
    }
  ]
}